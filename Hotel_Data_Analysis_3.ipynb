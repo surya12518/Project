{
  "nbformat": 4,
  "nbformat_minor": 0,
  "metadata": {
    "colab": {
      "provenance": [],
      "collapsed_sections": [
        "XX4XEAsm2JHE",
        "iy48619S23jL",
        "cOXo-plr3KFQ",
        "1cJFF0KF3Xhj"
      ],
      "authorship_tag": "ABX9TyMKtiHZOMhFcvyAOPhWedmb",
      "include_colab_link": true
    },
    "kernelspec": {
      "name": "python3",
      "display_name": "Python 3"
    },
    "language_info": {
      "name": "python"
    }
  },
  "cells": [
    {
      "cell_type": "markdown",
      "metadata": {
        "id": "view-in-github",
        "colab_type": "text"
      },
      "source": [
        "<a href=\"https://colab.research.google.com/github/surya12518/Project/blob/main/Hotel_Data_Analysis_3.ipynb\" target=\"_parent\"><img src=\"https://colab.research.google.com/assets/colab-badge.svg\" alt=\"Open In Colab\"/></a>"
      ]
    },
    {
      "cell_type": "markdown",
      "source": [
        "# **Project Name**    - Hotel Data Visualization"
      ],
      "metadata": {
        "id": "XX4XEAsm2JHE"
      }
    },
    {
      "cell_type": "markdown",
      "source": [
        "**Project Type**    - EDA\n",
        "\n",
        "**Contribution**    - Individual"
      ],
      "metadata": {
        "id": "EwfvR3Bm2U7Y"
      }
    },
    {
      "cell_type": "markdown",
      "source": [
        "# **Project Summary -**"
      ],
      "metadata": {
        "id": "iy48619S23jL"
      }
    },
    {
      "cell_type": "markdown",
      "source": [
        "\n",
        "The hotel reservations dataset serves as a rich repository of diverse information, encompassing the intricacies of guest bookings, demographic details, and stay-related variables. This exploratory analysis project seeks to unveil valuable insights and trends within this dataset, shedding light on critical aspects of the hotel reservation process. The exploration begins with a thorough examination of booking patterns, specifically delving into the distribution of lead time to discern booking horizons and unraveling trends in stays during weekends and weeknights. Understanding these temporal nuances provides a foundation for comprehending guest behavior and preferences. The analysis further extends to demographic explorations, unraveling the distribution of adults, children, and babies in reservations, alongside the examination of the ratio of repeated guests to new guests. These insights contribute to a nuanced understanding of the hotel's clientele and potential strategies for customer engagement. The Average Daily Rate (ADR), a pivotal metric in the hospitality industry, takes center stage in subsequent analyses. The distribution of ADR across different room types, meal types, and deposit types offers critical insights into pricing dynamics and the impact of specific reservation attributes on financial outcomes. Additionally, the relationship between ADR and the total number of people in a reservation is probed, providing a holistic view of how pricing aligns with group sizes. Reservation status becomes a focal point, with a focus on visualizing ADR distributions based on reservation outcomes and exploring the frequency and nature of booking changes made by customers. The correlation heatmap serves as a powerful tool to uncover relationships between numerical features, facilitating a nuanced understanding of interdependencies within the dataset. To enhance the depth of analysis, pair plots are employed to visually dissect relationships and distributions between selected numerical features, offering a comprehensive overview of how these variables interact. By the project's conclusion, this exploratory analysis aims to equip stakeholders in the hospitality industry with actionable insights. From refining pricing strategies and optimizing customer services to identifying target demographics and enhancing overall customer satisfaction, the findings from this project are poised to inform data-driven decision-making processes. The nuanced understanding derived from this exploration not only illuminates past trends but also lays the groundwork for informed strategies that can be pivotal in navigating the evolving landscape of the hotel reservation domain.\n",
        "\n",
        "\n",
        "\n",
        "\n"
      ],
      "metadata": {
        "id": "KfnpBDAI2-tx"
      }
    },
    {
      "cell_type": "markdown",
      "source": [
        "# **GitHub Link -**"
      ],
      "metadata": {
        "id": "8ZrjW0UT8887"
      }
    },
    {
      "cell_type": "markdown",
      "source": [
        "https://github.com/surya12518/Project"
      ],
      "metadata": {
        "id": "anHRIaHp9Pqs"
      }
    },
    {
      "cell_type": "markdown",
      "source": [
        "# **General Guidelines** : -  "
      ],
      "metadata": {
        "id": "cOXo-plr3KFQ"
      }
    },
    {
      "cell_type": "markdown",
      "source": [
        "1.   Well-structured, formatted, and commented code is required.\n",
        "2.   Exception Handling, Production Grade Code & Deployment Ready Code will be a plus. Those students will be awarded some additional credits.\n",
        "     \n",
        "     The additional credits will have advantages over other students during Star Student selection.\n",
        "       \n",
        "             [ Note: - Deployment Ready Code is defined as, the whole .ipynb notebook should be executable in one go\n",
        "                       without a single error logged. ]\n",
        "\n",
        "3.   Each and every logic should have proper comments.\n",
        "4. You may add as many number of charts you want. Make Sure for each and every chart the following format should be answered.\n",
        "        \n",
        "\n",
        "```\n",
        "# Chart visualization code\n",
        "```\n",
        "            \n",
        "\n",
        "*   Why did you pick the specific chart?\n",
        "*   What is/are the insight(s) found from the chart?\n",
        "* Will the gained insights help creating a positive business impact?\n",
        "Are there any insights that lead to negative growth? Justify with specific reason.\n",
        "\n",
        "5. You have to create at least 20 logical & meaningful charts having important insights.\n",
        "\n",
        "\n",
        "[ Hints : - Do the Vizualization in  a structured way while following \"UBM\" Rule.\n",
        "\n",
        "U - Univariate Analysis,\n",
        "\n",
        "B - Bivariate Analysis (Numerical - Categorical, Numerical - Numerical, Categorical - Categorical)\n",
        "\n",
        "M - Multivariate Analysis\n",
        " ]\n",
        "\n",
        "\n",
        "\n"
      ],
      "metadata": {
        "id": "40_vWsCc3S9O"
      }
    },
    {
      "cell_type": "markdown",
      "source": [
        "# ***Let's Begin !***"
      ],
      "metadata": {
        "id": "1cJFF0KF3Xhj"
      }
    },
    {
      "cell_type": "markdown",
      "source": [
        "## ***1. Know Your Data***"
      ],
      "metadata": {
        "id": "oeE-LZmh4AgY"
      }
    },
    {
      "cell_type": "markdown",
      "source": [
        "### Import Libraries"
      ],
      "metadata": {
        "id": "ygkPhzi04PY0"
      }
    },
    {
      "cell_type": "code",
      "source": [
        "# Import Libraries\n",
        "\n",
        "import numpy as np\n",
        "import pandas as pd\n",
        "import matplotlib.pyplot as plt\n",
        "import seaborn as sns\n",
        "from google.colab import drive"
      ],
      "metadata": {
        "id": "NpeS6Dsd4cq6"
      },
      "execution_count": 1,
      "outputs": []
    },
    {
      "cell_type": "markdown",
      "source": [
        "### Dataset Loading"
      ],
      "metadata": {
        "id": "C6DeXQp44XTU"
      }
    },
    {
      "cell_type": "code",
      "source": [
        "# Dataset loading from drive\n",
        "drive.mount(\"/content/drive\")\n",
        "hotel = pd.read_csv(\"/content/drive/MyDrive/Practice data/project data/Hotel Bookings.csv\")"
      ],
      "metadata": {
        "id": "TFOtJNHR4xM8",
        "colab": {
          "base_uri": "https://localhost:8080/"
        },
        "outputId": "5266d230-87a6-42cf-dbfd-ab9e089014dd"
      },
      "execution_count": 2,
      "outputs": [
        {
          "output_type": "stream",
          "name": "stdout",
          "text": [
            "Mounted at /content/drive\n"
          ]
        }
      ]
    },
    {
      "cell_type": "markdown",
      "source": [
        "### Dataset First View"
      ],
      "metadata": {
        "id": "iEB8DUzc48Un"
      }
    },
    {
      "cell_type": "code",
      "source": [
        "# Dataset First Look\n",
        "\n",
        "hotel.head()"
      ],
      "metadata": {
        "id": "9nOqSS8N4lZq",
        "colab": {
          "base_uri": "https://localhost:8080/",
          "height": 342
        },
        "outputId": "9f02f42e-796f-4b4c-acd1-9c264fd5d46f"
      },
      "execution_count": 3,
      "outputs": [
        {
          "output_type": "execute_result",
          "data": {
            "text/plain": [
              "          hotel  is_canceled  lead_time  arrival_date_year arrival_date_month  \\\n",
              "0  Resort Hotel            0        342               2015               July   \n",
              "1  Resort Hotel            0        737               2015               July   \n",
              "2  Resort Hotel            0          7               2015               July   \n",
              "3  Resort Hotel            0         13               2015               July   \n",
              "4  Resort Hotel            0         14               2015               July   \n",
              "\n",
              "   arrival_date_week_number  arrival_date_day_of_month  \\\n",
              "0                        27                          1   \n",
              "1                        27                          1   \n",
              "2                        27                          1   \n",
              "3                        27                          1   \n",
              "4                        27                          1   \n",
              "\n",
              "   stays_in_weekend_nights  stays_in_week_nights  adults  ...  deposit_type  \\\n",
              "0                        0                     0       2  ...    No Deposit   \n",
              "1                        0                     0       2  ...    No Deposit   \n",
              "2                        0                     1       1  ...    No Deposit   \n",
              "3                        0                     1       1  ...    No Deposit   \n",
              "4                        0                     2       2  ...    No Deposit   \n",
              "\n",
              "   agent company days_in_waiting_list customer_type   adr  \\\n",
              "0    NaN     NaN                    0     Transient   0.0   \n",
              "1    NaN     NaN                    0     Transient   0.0   \n",
              "2    NaN     NaN                    0     Transient  75.0   \n",
              "3  304.0     NaN                    0     Transient  75.0   \n",
              "4  240.0     NaN                    0     Transient  98.0   \n",
              "\n",
              "   required_car_parking_spaces  total_of_special_requests  reservation_status  \\\n",
              "0                            0                          0           Check-Out   \n",
              "1                            0                          0           Check-Out   \n",
              "2                            0                          0           Check-Out   \n",
              "3                            0                          0           Check-Out   \n",
              "4                            0                          1           Check-Out   \n",
              "\n",
              "  reservation_status_date  \n",
              "0              2015-07-01  \n",
              "1              2015-07-01  \n",
              "2              2015-07-02  \n",
              "3              2015-07-02  \n",
              "4              2015-07-03  \n",
              "\n",
              "[5 rows x 32 columns]"
            ],
            "text/html": [
              "\n",
              "  <div id=\"df-c1dc9a9f-bd4b-4e7a-8664-02ba04aa4a1e\" class=\"colab-df-container\">\n",
              "    <div>\n",
              "<style scoped>\n",
              "    .dataframe tbody tr th:only-of-type {\n",
              "        vertical-align: middle;\n",
              "    }\n",
              "\n",
              "    .dataframe tbody tr th {\n",
              "        vertical-align: top;\n",
              "    }\n",
              "\n",
              "    .dataframe thead th {\n",
              "        text-align: right;\n",
              "    }\n",
              "</style>\n",
              "<table border=\"1\" class=\"dataframe\">\n",
              "  <thead>\n",
              "    <tr style=\"text-align: right;\">\n",
              "      <th></th>\n",
              "      <th>hotel</th>\n",
              "      <th>is_canceled</th>\n",
              "      <th>lead_time</th>\n",
              "      <th>arrival_date_year</th>\n",
              "      <th>arrival_date_month</th>\n",
              "      <th>arrival_date_week_number</th>\n",
              "      <th>arrival_date_day_of_month</th>\n",
              "      <th>stays_in_weekend_nights</th>\n",
              "      <th>stays_in_week_nights</th>\n",
              "      <th>adults</th>\n",
              "      <th>...</th>\n",
              "      <th>deposit_type</th>\n",
              "      <th>agent</th>\n",
              "      <th>company</th>\n",
              "      <th>days_in_waiting_list</th>\n",
              "      <th>customer_type</th>\n",
              "      <th>adr</th>\n",
              "      <th>required_car_parking_spaces</th>\n",
              "      <th>total_of_special_requests</th>\n",
              "      <th>reservation_status</th>\n",
              "      <th>reservation_status_date</th>\n",
              "    </tr>\n",
              "  </thead>\n",
              "  <tbody>\n",
              "    <tr>\n",
              "      <th>0</th>\n",
              "      <td>Resort Hotel</td>\n",
              "      <td>0</td>\n",
              "      <td>342</td>\n",
              "      <td>2015</td>\n",
              "      <td>July</td>\n",
              "      <td>27</td>\n",
              "      <td>1</td>\n",
              "      <td>0</td>\n",
              "      <td>0</td>\n",
              "      <td>2</td>\n",
              "      <td>...</td>\n",
              "      <td>No Deposit</td>\n",
              "      <td>NaN</td>\n",
              "      <td>NaN</td>\n",
              "      <td>0</td>\n",
              "      <td>Transient</td>\n",
              "      <td>0.0</td>\n",
              "      <td>0</td>\n",
              "      <td>0</td>\n",
              "      <td>Check-Out</td>\n",
              "      <td>2015-07-01</td>\n",
              "    </tr>\n",
              "    <tr>\n",
              "      <th>1</th>\n",
              "      <td>Resort Hotel</td>\n",
              "      <td>0</td>\n",
              "      <td>737</td>\n",
              "      <td>2015</td>\n",
              "      <td>July</td>\n",
              "      <td>27</td>\n",
              "      <td>1</td>\n",
              "      <td>0</td>\n",
              "      <td>0</td>\n",
              "      <td>2</td>\n",
              "      <td>...</td>\n",
              "      <td>No Deposit</td>\n",
              "      <td>NaN</td>\n",
              "      <td>NaN</td>\n",
              "      <td>0</td>\n",
              "      <td>Transient</td>\n",
              "      <td>0.0</td>\n",
              "      <td>0</td>\n",
              "      <td>0</td>\n",
              "      <td>Check-Out</td>\n",
              "      <td>2015-07-01</td>\n",
              "    </tr>\n",
              "    <tr>\n",
              "      <th>2</th>\n",
              "      <td>Resort Hotel</td>\n",
              "      <td>0</td>\n",
              "      <td>7</td>\n",
              "      <td>2015</td>\n",
              "      <td>July</td>\n",
              "      <td>27</td>\n",
              "      <td>1</td>\n",
              "      <td>0</td>\n",
              "      <td>1</td>\n",
              "      <td>1</td>\n",
              "      <td>...</td>\n",
              "      <td>No Deposit</td>\n",
              "      <td>NaN</td>\n",
              "      <td>NaN</td>\n",
              "      <td>0</td>\n",
              "      <td>Transient</td>\n",
              "      <td>75.0</td>\n",
              "      <td>0</td>\n",
              "      <td>0</td>\n",
              "      <td>Check-Out</td>\n",
              "      <td>2015-07-02</td>\n",
              "    </tr>\n",
              "    <tr>\n",
              "      <th>3</th>\n",
              "      <td>Resort Hotel</td>\n",
              "      <td>0</td>\n",
              "      <td>13</td>\n",
              "      <td>2015</td>\n",
              "      <td>July</td>\n",
              "      <td>27</td>\n",
              "      <td>1</td>\n",
              "      <td>0</td>\n",
              "      <td>1</td>\n",
              "      <td>1</td>\n",
              "      <td>...</td>\n",
              "      <td>No Deposit</td>\n",
              "      <td>304.0</td>\n",
              "      <td>NaN</td>\n",
              "      <td>0</td>\n",
              "      <td>Transient</td>\n",
              "      <td>75.0</td>\n",
              "      <td>0</td>\n",
              "      <td>0</td>\n",
              "      <td>Check-Out</td>\n",
              "      <td>2015-07-02</td>\n",
              "    </tr>\n",
              "    <tr>\n",
              "      <th>4</th>\n",
              "      <td>Resort Hotel</td>\n",
              "      <td>0</td>\n",
              "      <td>14</td>\n",
              "      <td>2015</td>\n",
              "      <td>July</td>\n",
              "      <td>27</td>\n",
              "      <td>1</td>\n",
              "      <td>0</td>\n",
              "      <td>2</td>\n",
              "      <td>2</td>\n",
              "      <td>...</td>\n",
              "      <td>No Deposit</td>\n",
              "      <td>240.0</td>\n",
              "      <td>NaN</td>\n",
              "      <td>0</td>\n",
              "      <td>Transient</td>\n",
              "      <td>98.0</td>\n",
              "      <td>0</td>\n",
              "      <td>1</td>\n",
              "      <td>Check-Out</td>\n",
              "      <td>2015-07-03</td>\n",
              "    </tr>\n",
              "  </tbody>\n",
              "</table>\n",
              "<p>5 rows × 32 columns</p>\n",
              "</div>\n",
              "    <div class=\"colab-df-buttons\">\n",
              "\n",
              "  <div class=\"colab-df-container\">\n",
              "    <button class=\"colab-df-convert\" onclick=\"convertToInteractive('df-c1dc9a9f-bd4b-4e7a-8664-02ba04aa4a1e')\"\n",
              "            title=\"Convert this dataframe to an interactive table.\"\n",
              "            style=\"display:none;\">\n",
              "\n",
              "  <svg xmlns=\"http://www.w3.org/2000/svg\" height=\"24px\" viewBox=\"0 -960 960 960\">\n",
              "    <path d=\"M120-120v-720h720v720H120Zm60-500h600v-160H180v160Zm220 220h160v-160H400v160Zm0 220h160v-160H400v160ZM180-400h160v-160H180v160Zm440 0h160v-160H620v160ZM180-180h160v-160H180v160Zm440 0h160v-160H620v160Z\"/>\n",
              "  </svg>\n",
              "    </button>\n",
              "\n",
              "  <style>\n",
              "    .colab-df-container {\n",
              "      display:flex;\n",
              "      gap: 12px;\n",
              "    }\n",
              "\n",
              "    .colab-df-convert {\n",
              "      background-color: #E8F0FE;\n",
              "      border: none;\n",
              "      border-radius: 50%;\n",
              "      cursor: pointer;\n",
              "      display: none;\n",
              "      fill: #1967D2;\n",
              "      height: 32px;\n",
              "      padding: 0 0 0 0;\n",
              "      width: 32px;\n",
              "    }\n",
              "\n",
              "    .colab-df-convert:hover {\n",
              "      background-color: #E2EBFA;\n",
              "      box-shadow: 0px 1px 2px rgba(60, 64, 67, 0.3), 0px 1px 3px 1px rgba(60, 64, 67, 0.15);\n",
              "      fill: #174EA6;\n",
              "    }\n",
              "\n",
              "    .colab-df-buttons div {\n",
              "      margin-bottom: 4px;\n",
              "    }\n",
              "\n",
              "    [theme=dark] .colab-df-convert {\n",
              "      background-color: #3B4455;\n",
              "      fill: #D2E3FC;\n",
              "    }\n",
              "\n",
              "    [theme=dark] .colab-df-convert:hover {\n",
              "      background-color: #434B5C;\n",
              "      box-shadow: 0px 1px 3px 1px rgba(0, 0, 0, 0.15);\n",
              "      filter: drop-shadow(0px 1px 2px rgba(0, 0, 0, 0.3));\n",
              "      fill: #FFFFFF;\n",
              "    }\n",
              "  </style>\n",
              "\n",
              "    <script>\n",
              "      const buttonEl =\n",
              "        document.querySelector('#df-c1dc9a9f-bd4b-4e7a-8664-02ba04aa4a1e button.colab-df-convert');\n",
              "      buttonEl.style.display =\n",
              "        google.colab.kernel.accessAllowed ? 'block' : 'none';\n",
              "\n",
              "      async function convertToInteractive(key) {\n",
              "        const element = document.querySelector('#df-c1dc9a9f-bd4b-4e7a-8664-02ba04aa4a1e');\n",
              "        const dataTable =\n",
              "          await google.colab.kernel.invokeFunction('convertToInteractive',\n",
              "                                                    [key], {});\n",
              "        if (!dataTable) return;\n",
              "\n",
              "        const docLinkHtml = 'Like what you see? Visit the ' +\n",
              "          '<a target=\"_blank\" href=https://colab.research.google.com/notebooks/data_table.ipynb>data table notebook</a>'\n",
              "          + ' to learn more about interactive tables.';\n",
              "        element.innerHTML = '';\n",
              "        dataTable['output_type'] = 'display_data';\n",
              "        await google.colab.output.renderOutput(dataTable, element);\n",
              "        const docLink = document.createElement('div');\n",
              "        docLink.innerHTML = docLinkHtml;\n",
              "        element.appendChild(docLink);\n",
              "      }\n",
              "    </script>\n",
              "  </div>\n",
              "\n",
              "\n",
              "<div id=\"df-ac6f4335-a5b1-4e52-ad31-adf5d3f38968\">\n",
              "  <button class=\"colab-df-quickchart\" onclick=\"quickchart('df-ac6f4335-a5b1-4e52-ad31-adf5d3f38968')\"\n",
              "            title=\"Suggest charts\"\n",
              "            style=\"display:none;\">\n",
              "\n",
              "<svg xmlns=\"http://www.w3.org/2000/svg\" height=\"24px\"viewBox=\"0 0 24 24\"\n",
              "     width=\"24px\">\n",
              "    <g>\n",
              "        <path d=\"M19 3H5c-1.1 0-2 .9-2 2v14c0 1.1.9 2 2 2h14c1.1 0 2-.9 2-2V5c0-1.1-.9-2-2-2zM9 17H7v-7h2v7zm4 0h-2V7h2v10zm4 0h-2v-4h2v4z\"/>\n",
              "    </g>\n",
              "</svg>\n",
              "  </button>\n",
              "\n",
              "<style>\n",
              "  .colab-df-quickchart {\n",
              "      --bg-color: #E8F0FE;\n",
              "      --fill-color: #1967D2;\n",
              "      --hover-bg-color: #E2EBFA;\n",
              "      --hover-fill-color: #174EA6;\n",
              "      --disabled-fill-color: #AAA;\n",
              "      --disabled-bg-color: #DDD;\n",
              "  }\n",
              "\n",
              "  [theme=dark] .colab-df-quickchart {\n",
              "      --bg-color: #3B4455;\n",
              "      --fill-color: #D2E3FC;\n",
              "      --hover-bg-color: #434B5C;\n",
              "      --hover-fill-color: #FFFFFF;\n",
              "      --disabled-bg-color: #3B4455;\n",
              "      --disabled-fill-color: #666;\n",
              "  }\n",
              "\n",
              "  .colab-df-quickchart {\n",
              "    background-color: var(--bg-color);\n",
              "    border: none;\n",
              "    border-radius: 50%;\n",
              "    cursor: pointer;\n",
              "    display: none;\n",
              "    fill: var(--fill-color);\n",
              "    height: 32px;\n",
              "    padding: 0;\n",
              "    width: 32px;\n",
              "  }\n",
              "\n",
              "  .colab-df-quickchart:hover {\n",
              "    background-color: var(--hover-bg-color);\n",
              "    box-shadow: 0 1px 2px rgba(60, 64, 67, 0.3), 0 1px 3px 1px rgba(60, 64, 67, 0.15);\n",
              "    fill: var(--button-hover-fill-color);\n",
              "  }\n",
              "\n",
              "  .colab-df-quickchart-complete:disabled,\n",
              "  .colab-df-quickchart-complete:disabled:hover {\n",
              "    background-color: var(--disabled-bg-color);\n",
              "    fill: var(--disabled-fill-color);\n",
              "    box-shadow: none;\n",
              "  }\n",
              "\n",
              "  .colab-df-spinner {\n",
              "    border: 2px solid var(--fill-color);\n",
              "    border-color: transparent;\n",
              "    border-bottom-color: var(--fill-color);\n",
              "    animation:\n",
              "      spin 1s steps(1) infinite;\n",
              "  }\n",
              "\n",
              "  @keyframes spin {\n",
              "    0% {\n",
              "      border-color: transparent;\n",
              "      border-bottom-color: var(--fill-color);\n",
              "      border-left-color: var(--fill-color);\n",
              "    }\n",
              "    20% {\n",
              "      border-color: transparent;\n",
              "      border-left-color: var(--fill-color);\n",
              "      border-top-color: var(--fill-color);\n",
              "    }\n",
              "    30% {\n",
              "      border-color: transparent;\n",
              "      border-left-color: var(--fill-color);\n",
              "      border-top-color: var(--fill-color);\n",
              "      border-right-color: var(--fill-color);\n",
              "    }\n",
              "    40% {\n",
              "      border-color: transparent;\n",
              "      border-right-color: var(--fill-color);\n",
              "      border-top-color: var(--fill-color);\n",
              "    }\n",
              "    60% {\n",
              "      border-color: transparent;\n",
              "      border-right-color: var(--fill-color);\n",
              "    }\n",
              "    80% {\n",
              "      border-color: transparent;\n",
              "      border-right-color: var(--fill-color);\n",
              "      border-bottom-color: var(--fill-color);\n",
              "    }\n",
              "    90% {\n",
              "      border-color: transparent;\n",
              "      border-bottom-color: var(--fill-color);\n",
              "    }\n",
              "  }\n",
              "</style>\n",
              "\n",
              "  <script>\n",
              "    async function quickchart(key) {\n",
              "      const quickchartButtonEl =\n",
              "        document.querySelector('#' + key + ' button');\n",
              "      quickchartButtonEl.disabled = true;  // To prevent multiple clicks.\n",
              "      quickchartButtonEl.classList.add('colab-df-spinner');\n",
              "      try {\n",
              "        const charts = await google.colab.kernel.invokeFunction(\n",
              "            'suggestCharts', [key], {});\n",
              "      } catch (error) {\n",
              "        console.error('Error during call to suggestCharts:', error);\n",
              "      }\n",
              "      quickchartButtonEl.classList.remove('colab-df-spinner');\n",
              "      quickchartButtonEl.classList.add('colab-df-quickchart-complete');\n",
              "    }\n",
              "    (() => {\n",
              "      let quickchartButtonEl =\n",
              "        document.querySelector('#df-ac6f4335-a5b1-4e52-ad31-adf5d3f38968 button');\n",
              "      quickchartButtonEl.style.display =\n",
              "        google.colab.kernel.accessAllowed ? 'block' : 'none';\n",
              "    })();\n",
              "  </script>\n",
              "</div>\n",
              "\n",
              "    </div>\n",
              "  </div>\n"
            ]
          },
          "metadata": {},
          "execution_count": 3
        }
      ]
    },
    {
      "cell_type": "markdown",
      "source": [
        "### Dataset Rows & Columns count"
      ],
      "metadata": {
        "id": "vQ8y3l4x5V3G"
      }
    },
    {
      "cell_type": "code",
      "source": [
        "hotel.shape"
      ],
      "metadata": {
        "id": "mPMMAIaI5XYC",
        "colab": {
          "base_uri": "https://localhost:8080/"
        },
        "outputId": "44b40a52-d9a7-4fb6-d612-d7d502deabc6"
      },
      "execution_count": 4,
      "outputs": [
        {
          "output_type": "execute_result",
          "data": {
            "text/plain": [
              "(119390, 32)"
            ]
          },
          "metadata": {},
          "execution_count": 4
        }
      ]
    },
    {
      "cell_type": "markdown",
      "source": [
        "## Dataset Information"
      ],
      "metadata": {
        "id": "g8NduYid5G62"
      }
    },
    {
      "cell_type": "code",
      "source": [
        "# Dataset Info\n",
        "\n",
        "hotel.info()"
      ],
      "metadata": {
        "id": "MZanB4wY5BdM",
        "colab": {
          "base_uri": "https://localhost:8080/"
        },
        "outputId": "abc7c61b-1e6d-457b-bb7d-86fbbc44e7fe"
      },
      "execution_count": 5,
      "outputs": [
        {
          "output_type": "stream",
          "name": "stdout",
          "text": [
            "<class 'pandas.core.frame.DataFrame'>\n",
            "RangeIndex: 119390 entries, 0 to 119389\n",
            "Data columns (total 32 columns):\n",
            " #   Column                          Non-Null Count   Dtype  \n",
            "---  ------                          --------------   -----  \n",
            " 0   hotel                           119390 non-null  object \n",
            " 1   is_canceled                     119390 non-null  int64  \n",
            " 2   lead_time                       119390 non-null  int64  \n",
            " 3   arrival_date_year               119390 non-null  int64  \n",
            " 4   arrival_date_month              119390 non-null  object \n",
            " 5   arrival_date_week_number        119390 non-null  int64  \n",
            " 6   arrival_date_day_of_month       119390 non-null  int64  \n",
            " 7   stays_in_weekend_nights         119390 non-null  int64  \n",
            " 8   stays_in_week_nights            119390 non-null  int64  \n",
            " 9   adults                          119390 non-null  int64  \n",
            " 10  children                        119386 non-null  float64\n",
            " 11  babies                          119390 non-null  int64  \n",
            " 12  meal                            119390 non-null  object \n",
            " 13  country                         118902 non-null  object \n",
            " 14  market_segment                  119390 non-null  object \n",
            " 15  distribution_channel            119390 non-null  object \n",
            " 16  is_repeated_guest               119390 non-null  int64  \n",
            " 17  previous_cancellations          119390 non-null  int64  \n",
            " 18  previous_bookings_not_canceled  119390 non-null  int64  \n",
            " 19  reserved_room_type              119390 non-null  object \n",
            " 20  assigned_room_type              119390 non-null  object \n",
            " 21  booking_changes                 119390 non-null  int64  \n",
            " 22  deposit_type                    119390 non-null  object \n",
            " 23  agent                           103050 non-null  float64\n",
            " 24  company                         6797 non-null    float64\n",
            " 25  days_in_waiting_list            119390 non-null  int64  \n",
            " 26  customer_type                   119390 non-null  object \n",
            " 27  adr                             119390 non-null  float64\n",
            " 28  required_car_parking_spaces     119390 non-null  int64  \n",
            " 29  total_of_special_requests       119390 non-null  int64  \n",
            " 30  reservation_status              119390 non-null  object \n",
            " 31  reservation_status_date         119390 non-null  object \n",
            "dtypes: float64(4), int64(16), object(12)\n",
            "memory usage: 29.1+ MB\n"
          ]
        }
      ]
    },
    {
      "cell_type": "markdown",
      "source": [
        "### Duplicate Values"
      ],
      "metadata": {
        "id": "cWGVS1yz5tBa"
      }
    },
    {
      "cell_type": "code",
      "source": [
        "# Dataset Duplicate Value Count\n",
        "\n",
        "hotel.duplicated().sum()"
      ],
      "metadata": {
        "id": "0YcZJBWt5wp9",
        "colab": {
          "base_uri": "https://localhost:8080/"
        },
        "outputId": "44ecbcc1-dc93-4626-e429-be8c01aa3303"
      },
      "execution_count": 6,
      "outputs": [
        {
          "output_type": "execute_result",
          "data": {
            "text/plain": [
              "31994"
            ]
          },
          "metadata": {},
          "execution_count": 6
        }
      ]
    },
    {
      "cell_type": "markdown",
      "source": [
        "### Missing Values/Null Values"
      ],
      "metadata": {
        "id": "vXh8KL_J6G8M"
      }
    },
    {
      "cell_type": "code",
      "source": [
        "# Missing Values/Null Values Count\n",
        "\n",
        "hotel.isna().sum()"
      ],
      "metadata": {
        "id": "Vx6xuY_J5Npu",
        "colab": {
          "base_uri": "https://localhost:8080/"
        },
        "outputId": "befaa9d0-a1bf-47e4-cf0b-581f5f8aad44"
      },
      "execution_count": 7,
      "outputs": [
        {
          "output_type": "execute_result",
          "data": {
            "text/plain": [
              "hotel                                  0\n",
              "is_canceled                            0\n",
              "lead_time                              0\n",
              "arrival_date_year                      0\n",
              "arrival_date_month                     0\n",
              "arrival_date_week_number               0\n",
              "arrival_date_day_of_month              0\n",
              "stays_in_weekend_nights                0\n",
              "stays_in_week_nights                   0\n",
              "adults                                 0\n",
              "children                               4\n",
              "babies                                 0\n",
              "meal                                   0\n",
              "country                              488\n",
              "market_segment                         0\n",
              "distribution_channel                   0\n",
              "is_repeated_guest                      0\n",
              "previous_cancellations                 0\n",
              "previous_bookings_not_canceled         0\n",
              "reserved_room_type                     0\n",
              "assigned_room_type                     0\n",
              "booking_changes                        0\n",
              "deposit_type                           0\n",
              "agent                              16340\n",
              "company                           112593\n",
              "days_in_waiting_list                   0\n",
              "customer_type                          0\n",
              "adr                                    0\n",
              "required_car_parking_spaces            0\n",
              "total_of_special_requests              0\n",
              "reservation_status                     0\n",
              "reservation_status_date                0\n",
              "dtype: int64"
            ]
          },
          "metadata": {},
          "execution_count": 7
        }
      ]
    },
    {
      "cell_type": "markdown",
      "source": [
        "### What did you know about your dataset?"
      ],
      "metadata": {
        "id": "Nrihayr163j0"
      }
    },
    {
      "cell_type": "markdown",
      "source": [
        "The hotel dataset, encompassing 119,390 rows and 32 columns, provides a comprehensive overview of various facets of hotel reservations. Among these rows, 31,994 are duplicates, while 4 columns exhibit null values, with the 'company' column having the highest count and 'children' the lowest. The dataset comprises diverse data types and indicators, encapsulating critical information for each reservation entry. Key attributes include the type of hotel, cancellation status, lead time, arrival details (year, month, week number, day of the month), stay duration on weekends and weekdays, guest demographics (adults, children, babies), meal type, guest country, market segment, and distribution channel. Additionally, it captures whether the guest is a repeated visitor, history of cancellations and previous bookings, room details (reserved and assigned types), booking modifications, deposit type, agent and company IDs, waiting list duration, customer type, average daily rate, car parking requests, special requests, reservation status, and related dates. This rich dataset encompasses the entire lifecycle of hotel reservations, providing valuable insights into booking patterns, guest characteristics, and operational dynamics from booking to check-out."
      ],
      "metadata": {
        "id": "sO6tjn4i63Bg"
      }
    },
    {
      "cell_type": "markdown",
      "source": [
        "## ***2. Understanding Your Variables***"
      ],
      "metadata": {
        "id": "5YxoLHPo7NKd"
      }
    },
    {
      "cell_type": "code",
      "source": [
        "# Dataset Columns\n",
        "\n",
        "hotel.columns"
      ],
      "metadata": {
        "id": "qKfP7DcF6Vaj",
        "colab": {
          "base_uri": "https://localhost:8080/"
        },
        "outputId": "41182386-8cbb-4962-8a59-4c4c961cac62"
      },
      "execution_count": 8,
      "outputs": [
        {
          "output_type": "execute_result",
          "data": {
            "text/plain": [
              "Index(['hotel', 'is_canceled', 'lead_time', 'arrival_date_year',\n",
              "       'arrival_date_month', 'arrival_date_week_number',\n",
              "       'arrival_date_day_of_month', 'stays_in_weekend_nights',\n",
              "       'stays_in_week_nights', 'adults', 'children', 'babies', 'meal',\n",
              "       'country', 'market_segment', 'distribution_channel',\n",
              "       'is_repeated_guest', 'previous_cancellations',\n",
              "       'previous_bookings_not_canceled', 'reserved_room_type',\n",
              "       'assigned_room_type', 'booking_changes', 'deposit_type', 'agent',\n",
              "       'company', 'days_in_waiting_list', 'customer_type', 'adr',\n",
              "       'required_car_parking_spaces', 'total_of_special_requests',\n",
              "       'reservation_status', 'reservation_status_date'],\n",
              "      dtype='object')"
            ]
          },
          "metadata": {},
          "execution_count": 8
        }
      ]
    },
    {
      "cell_type": "code",
      "source": [
        "# Dataset Describe\n",
        "\n",
        "hotel.describe()"
      ],
      "metadata": {
        "id": "iAs0UaiS7fKD",
        "colab": {
          "base_uri": "https://localhost:8080/",
          "height": 0
        },
        "outputId": "6c81356a-e6bc-4012-db3c-9fa68852ad83"
      },
      "execution_count": 9,
      "outputs": [
        {
          "output_type": "execute_result",
          "data": {
            "text/plain": [
              "         is_canceled      lead_time  arrival_date_year  \\\n",
              "count  119390.000000  119390.000000      119390.000000   \n",
              "mean        0.370416     104.011416        2016.156554   \n",
              "std         0.482918     106.863097           0.707476   \n",
              "min         0.000000       0.000000        2015.000000   \n",
              "25%         0.000000      18.000000        2016.000000   \n",
              "50%         0.000000      69.000000        2016.000000   \n",
              "75%         1.000000     160.000000        2017.000000   \n",
              "max         1.000000     737.000000        2017.000000   \n",
              "\n",
              "       arrival_date_week_number  arrival_date_day_of_month  \\\n",
              "count             119390.000000              119390.000000   \n",
              "mean                  27.165173                  15.798241   \n",
              "std                   13.605138                   8.780829   \n",
              "min                    1.000000                   1.000000   \n",
              "25%                   16.000000                   8.000000   \n",
              "50%                   28.000000                  16.000000   \n",
              "75%                   38.000000                  23.000000   \n",
              "max                   53.000000                  31.000000   \n",
              "\n",
              "       stays_in_weekend_nights  stays_in_week_nights         adults  \\\n",
              "count            119390.000000         119390.000000  119390.000000   \n",
              "mean                  0.927599              2.500302       1.856403   \n",
              "std                   0.998613              1.908286       0.579261   \n",
              "min                   0.000000              0.000000       0.000000   \n",
              "25%                   0.000000              1.000000       2.000000   \n",
              "50%                   1.000000              2.000000       2.000000   \n",
              "75%                   2.000000              3.000000       2.000000   \n",
              "max                  19.000000             50.000000      55.000000   \n",
              "\n",
              "            children         babies  is_repeated_guest  \\\n",
              "count  119386.000000  119390.000000      119390.000000   \n",
              "mean        0.103890       0.007949           0.031912   \n",
              "std         0.398561       0.097436           0.175767   \n",
              "min         0.000000       0.000000           0.000000   \n",
              "25%         0.000000       0.000000           0.000000   \n",
              "50%         0.000000       0.000000           0.000000   \n",
              "75%         0.000000       0.000000           0.000000   \n",
              "max        10.000000      10.000000           1.000000   \n",
              "\n",
              "       previous_cancellations  previous_bookings_not_canceled  \\\n",
              "count           119390.000000                   119390.000000   \n",
              "mean                 0.087118                        0.137097   \n",
              "std                  0.844336                        1.497437   \n",
              "min                  0.000000                        0.000000   \n",
              "25%                  0.000000                        0.000000   \n",
              "50%                  0.000000                        0.000000   \n",
              "75%                  0.000000                        0.000000   \n",
              "max                 26.000000                       72.000000   \n",
              "\n",
              "       booking_changes          agent      company  days_in_waiting_list  \\\n",
              "count    119390.000000  103050.000000  6797.000000         119390.000000   \n",
              "mean          0.221124      86.693382   189.266735              2.321149   \n",
              "std           0.652306     110.774548   131.655015             17.594721   \n",
              "min           0.000000       1.000000     6.000000              0.000000   \n",
              "25%           0.000000       9.000000    62.000000              0.000000   \n",
              "50%           0.000000      14.000000   179.000000              0.000000   \n",
              "75%           0.000000     229.000000   270.000000              0.000000   \n",
              "max          21.000000     535.000000   543.000000            391.000000   \n",
              "\n",
              "                 adr  required_car_parking_spaces  total_of_special_requests  \n",
              "count  119390.000000                119390.000000              119390.000000  \n",
              "mean      101.831122                     0.062518                   0.571363  \n",
              "std        50.535790                     0.245291                   0.792798  \n",
              "min        -6.380000                     0.000000                   0.000000  \n",
              "25%        69.290000                     0.000000                   0.000000  \n",
              "50%        94.575000                     0.000000                   0.000000  \n",
              "75%       126.000000                     0.000000                   1.000000  \n",
              "max      5400.000000                     8.000000                   5.000000  "
            ],
            "text/html": [
              "\n",
              "  <div id=\"df-363357ec-6568-46d2-9dc4-728b3ba0213a\" class=\"colab-df-container\">\n",
              "    <div>\n",
              "<style scoped>\n",
              "    .dataframe tbody tr th:only-of-type {\n",
              "        vertical-align: middle;\n",
              "    }\n",
              "\n",
              "    .dataframe tbody tr th {\n",
              "        vertical-align: top;\n",
              "    }\n",
              "\n",
              "    .dataframe thead th {\n",
              "        text-align: right;\n",
              "    }\n",
              "</style>\n",
              "<table border=\"1\" class=\"dataframe\">\n",
              "  <thead>\n",
              "    <tr style=\"text-align: right;\">\n",
              "      <th></th>\n",
              "      <th>is_canceled</th>\n",
              "      <th>lead_time</th>\n",
              "      <th>arrival_date_year</th>\n",
              "      <th>arrival_date_week_number</th>\n",
              "      <th>arrival_date_day_of_month</th>\n",
              "      <th>stays_in_weekend_nights</th>\n",
              "      <th>stays_in_week_nights</th>\n",
              "      <th>adults</th>\n",
              "      <th>children</th>\n",
              "      <th>babies</th>\n",
              "      <th>is_repeated_guest</th>\n",
              "      <th>previous_cancellations</th>\n",
              "      <th>previous_bookings_not_canceled</th>\n",
              "      <th>booking_changes</th>\n",
              "      <th>agent</th>\n",
              "      <th>company</th>\n",
              "      <th>days_in_waiting_list</th>\n",
              "      <th>adr</th>\n",
              "      <th>required_car_parking_spaces</th>\n",
              "      <th>total_of_special_requests</th>\n",
              "    </tr>\n",
              "  </thead>\n",
              "  <tbody>\n",
              "    <tr>\n",
              "      <th>count</th>\n",
              "      <td>119390.000000</td>\n",
              "      <td>119390.000000</td>\n",
              "      <td>119390.000000</td>\n",
              "      <td>119390.000000</td>\n",
              "      <td>119390.000000</td>\n",
              "      <td>119390.000000</td>\n",
              "      <td>119390.000000</td>\n",
              "      <td>119390.000000</td>\n",
              "      <td>119386.000000</td>\n",
              "      <td>119390.000000</td>\n",
              "      <td>119390.000000</td>\n",
              "      <td>119390.000000</td>\n",
              "      <td>119390.000000</td>\n",
              "      <td>119390.000000</td>\n",
              "      <td>103050.000000</td>\n",
              "      <td>6797.000000</td>\n",
              "      <td>119390.000000</td>\n",
              "      <td>119390.000000</td>\n",
              "      <td>119390.000000</td>\n",
              "      <td>119390.000000</td>\n",
              "    </tr>\n",
              "    <tr>\n",
              "      <th>mean</th>\n",
              "      <td>0.370416</td>\n",
              "      <td>104.011416</td>\n",
              "      <td>2016.156554</td>\n",
              "      <td>27.165173</td>\n",
              "      <td>15.798241</td>\n",
              "      <td>0.927599</td>\n",
              "      <td>2.500302</td>\n",
              "      <td>1.856403</td>\n",
              "      <td>0.103890</td>\n",
              "      <td>0.007949</td>\n",
              "      <td>0.031912</td>\n",
              "      <td>0.087118</td>\n",
              "      <td>0.137097</td>\n",
              "      <td>0.221124</td>\n",
              "      <td>86.693382</td>\n",
              "      <td>189.266735</td>\n",
              "      <td>2.321149</td>\n",
              "      <td>101.831122</td>\n",
              "      <td>0.062518</td>\n",
              "      <td>0.571363</td>\n",
              "    </tr>\n",
              "    <tr>\n",
              "      <th>std</th>\n",
              "      <td>0.482918</td>\n",
              "      <td>106.863097</td>\n",
              "      <td>0.707476</td>\n",
              "      <td>13.605138</td>\n",
              "      <td>8.780829</td>\n",
              "      <td>0.998613</td>\n",
              "      <td>1.908286</td>\n",
              "      <td>0.579261</td>\n",
              "      <td>0.398561</td>\n",
              "      <td>0.097436</td>\n",
              "      <td>0.175767</td>\n",
              "      <td>0.844336</td>\n",
              "      <td>1.497437</td>\n",
              "      <td>0.652306</td>\n",
              "      <td>110.774548</td>\n",
              "      <td>131.655015</td>\n",
              "      <td>17.594721</td>\n",
              "      <td>50.535790</td>\n",
              "      <td>0.245291</td>\n",
              "      <td>0.792798</td>\n",
              "    </tr>\n",
              "    <tr>\n",
              "      <th>min</th>\n",
              "      <td>0.000000</td>\n",
              "      <td>0.000000</td>\n",
              "      <td>2015.000000</td>\n",
              "      <td>1.000000</td>\n",
              "      <td>1.000000</td>\n",
              "      <td>0.000000</td>\n",
              "      <td>0.000000</td>\n",
              "      <td>0.000000</td>\n",
              "      <td>0.000000</td>\n",
              "      <td>0.000000</td>\n",
              "      <td>0.000000</td>\n",
              "      <td>0.000000</td>\n",
              "      <td>0.000000</td>\n",
              "      <td>0.000000</td>\n",
              "      <td>1.000000</td>\n",
              "      <td>6.000000</td>\n",
              "      <td>0.000000</td>\n",
              "      <td>-6.380000</td>\n",
              "      <td>0.000000</td>\n",
              "      <td>0.000000</td>\n",
              "    </tr>\n",
              "    <tr>\n",
              "      <th>25%</th>\n",
              "      <td>0.000000</td>\n",
              "      <td>18.000000</td>\n",
              "      <td>2016.000000</td>\n",
              "      <td>16.000000</td>\n",
              "      <td>8.000000</td>\n",
              "      <td>0.000000</td>\n",
              "      <td>1.000000</td>\n",
              "      <td>2.000000</td>\n",
              "      <td>0.000000</td>\n",
              "      <td>0.000000</td>\n",
              "      <td>0.000000</td>\n",
              "      <td>0.000000</td>\n",
              "      <td>0.000000</td>\n",
              "      <td>0.000000</td>\n",
              "      <td>9.000000</td>\n",
              "      <td>62.000000</td>\n",
              "      <td>0.000000</td>\n",
              "      <td>69.290000</td>\n",
              "      <td>0.000000</td>\n",
              "      <td>0.000000</td>\n",
              "    </tr>\n",
              "    <tr>\n",
              "      <th>50%</th>\n",
              "      <td>0.000000</td>\n",
              "      <td>69.000000</td>\n",
              "      <td>2016.000000</td>\n",
              "      <td>28.000000</td>\n",
              "      <td>16.000000</td>\n",
              "      <td>1.000000</td>\n",
              "      <td>2.000000</td>\n",
              "      <td>2.000000</td>\n",
              "      <td>0.000000</td>\n",
              "      <td>0.000000</td>\n",
              "      <td>0.000000</td>\n",
              "      <td>0.000000</td>\n",
              "      <td>0.000000</td>\n",
              "      <td>0.000000</td>\n",
              "      <td>14.000000</td>\n",
              "      <td>179.000000</td>\n",
              "      <td>0.000000</td>\n",
              "      <td>94.575000</td>\n",
              "      <td>0.000000</td>\n",
              "      <td>0.000000</td>\n",
              "    </tr>\n",
              "    <tr>\n",
              "      <th>75%</th>\n",
              "      <td>1.000000</td>\n",
              "      <td>160.000000</td>\n",
              "      <td>2017.000000</td>\n",
              "      <td>38.000000</td>\n",
              "      <td>23.000000</td>\n",
              "      <td>2.000000</td>\n",
              "      <td>3.000000</td>\n",
              "      <td>2.000000</td>\n",
              "      <td>0.000000</td>\n",
              "      <td>0.000000</td>\n",
              "      <td>0.000000</td>\n",
              "      <td>0.000000</td>\n",
              "      <td>0.000000</td>\n",
              "      <td>0.000000</td>\n",
              "      <td>229.000000</td>\n",
              "      <td>270.000000</td>\n",
              "      <td>0.000000</td>\n",
              "      <td>126.000000</td>\n",
              "      <td>0.000000</td>\n",
              "      <td>1.000000</td>\n",
              "    </tr>\n",
              "    <tr>\n",
              "      <th>max</th>\n",
              "      <td>1.000000</td>\n",
              "      <td>737.000000</td>\n",
              "      <td>2017.000000</td>\n",
              "      <td>53.000000</td>\n",
              "      <td>31.000000</td>\n",
              "      <td>19.000000</td>\n",
              "      <td>50.000000</td>\n",
              "      <td>55.000000</td>\n",
              "      <td>10.000000</td>\n",
              "      <td>10.000000</td>\n",
              "      <td>1.000000</td>\n",
              "      <td>26.000000</td>\n",
              "      <td>72.000000</td>\n",
              "      <td>21.000000</td>\n",
              "      <td>535.000000</td>\n",
              "      <td>543.000000</td>\n",
              "      <td>391.000000</td>\n",
              "      <td>5400.000000</td>\n",
              "      <td>8.000000</td>\n",
              "      <td>5.000000</td>\n",
              "    </tr>\n",
              "  </tbody>\n",
              "</table>\n",
              "</div>\n",
              "    <div class=\"colab-df-buttons\">\n",
              "\n",
              "  <div class=\"colab-df-container\">\n",
              "    <button class=\"colab-df-convert\" onclick=\"convertToInteractive('df-363357ec-6568-46d2-9dc4-728b3ba0213a')\"\n",
              "            title=\"Convert this dataframe to an interactive table.\"\n",
              "            style=\"display:none;\">\n",
              "\n",
              "  <svg xmlns=\"http://www.w3.org/2000/svg\" height=\"24px\" viewBox=\"0 -960 960 960\">\n",
              "    <path d=\"M120-120v-720h720v720H120Zm60-500h600v-160H180v160Zm220 220h160v-160H400v160Zm0 220h160v-160H400v160ZM180-400h160v-160H180v160Zm440 0h160v-160H620v160ZM180-180h160v-160H180v160Zm440 0h160v-160H620v160Z\"/>\n",
              "  </svg>\n",
              "    </button>\n",
              "\n",
              "  <style>\n",
              "    .colab-df-container {\n",
              "      display:flex;\n",
              "      gap: 12px;\n",
              "    }\n",
              "\n",
              "    .colab-df-convert {\n",
              "      background-color: #E8F0FE;\n",
              "      border: none;\n",
              "      border-radius: 50%;\n",
              "      cursor: pointer;\n",
              "      display: none;\n",
              "      fill: #1967D2;\n",
              "      height: 32px;\n",
              "      padding: 0 0 0 0;\n",
              "      width: 32px;\n",
              "    }\n",
              "\n",
              "    .colab-df-convert:hover {\n",
              "      background-color: #E2EBFA;\n",
              "      box-shadow: 0px 1px 2px rgba(60, 64, 67, 0.3), 0px 1px 3px 1px rgba(60, 64, 67, 0.15);\n",
              "      fill: #174EA6;\n",
              "    }\n",
              "\n",
              "    .colab-df-buttons div {\n",
              "      margin-bottom: 4px;\n",
              "    }\n",
              "\n",
              "    [theme=dark] .colab-df-convert {\n",
              "      background-color: #3B4455;\n",
              "      fill: #D2E3FC;\n",
              "    }\n",
              "\n",
              "    [theme=dark] .colab-df-convert:hover {\n",
              "      background-color: #434B5C;\n",
              "      box-shadow: 0px 1px 3px 1px rgba(0, 0, 0, 0.15);\n",
              "      filter: drop-shadow(0px 1px 2px rgba(0, 0, 0, 0.3));\n",
              "      fill: #FFFFFF;\n",
              "    }\n",
              "  </style>\n",
              "\n",
              "    <script>\n",
              "      const buttonEl =\n",
              "        document.querySelector('#df-363357ec-6568-46d2-9dc4-728b3ba0213a button.colab-df-convert');\n",
              "      buttonEl.style.display =\n",
              "        google.colab.kernel.accessAllowed ? 'block' : 'none';\n",
              "\n",
              "      async function convertToInteractive(key) {\n",
              "        const element = document.querySelector('#df-363357ec-6568-46d2-9dc4-728b3ba0213a');\n",
              "        const dataTable =\n",
              "          await google.colab.kernel.invokeFunction('convertToInteractive',\n",
              "                                                    [key], {});\n",
              "        if (!dataTable) return;\n",
              "\n",
              "        const docLinkHtml = 'Like what you see? Visit the ' +\n",
              "          '<a target=\"_blank\" href=https://colab.research.google.com/notebooks/data_table.ipynb>data table notebook</a>'\n",
              "          + ' to learn more about interactive tables.';\n",
              "        element.innerHTML = '';\n",
              "        dataTable['output_type'] = 'display_data';\n",
              "        await google.colab.output.renderOutput(dataTable, element);\n",
              "        const docLink = document.createElement('div');\n",
              "        docLink.innerHTML = docLinkHtml;\n",
              "        element.appendChild(docLink);\n",
              "      }\n",
              "    </script>\n",
              "  </div>\n",
              "\n",
              "\n",
              "<div id=\"df-c4268554-7390-4d52-a9fb-9855a2230561\">\n",
              "  <button class=\"colab-df-quickchart\" onclick=\"quickchart('df-c4268554-7390-4d52-a9fb-9855a2230561')\"\n",
              "            title=\"Suggest charts\"\n",
              "            style=\"display:none;\">\n",
              "\n",
              "<svg xmlns=\"http://www.w3.org/2000/svg\" height=\"24px\"viewBox=\"0 0 24 24\"\n",
              "     width=\"24px\">\n",
              "    <g>\n",
              "        <path d=\"M19 3H5c-1.1 0-2 .9-2 2v14c0 1.1.9 2 2 2h14c1.1 0 2-.9 2-2V5c0-1.1-.9-2-2-2zM9 17H7v-7h2v7zm4 0h-2V7h2v10zm4 0h-2v-4h2v4z\"/>\n",
              "    </g>\n",
              "</svg>\n",
              "  </button>\n",
              "\n",
              "<style>\n",
              "  .colab-df-quickchart {\n",
              "      --bg-color: #E8F0FE;\n",
              "      --fill-color: #1967D2;\n",
              "      --hover-bg-color: #E2EBFA;\n",
              "      --hover-fill-color: #174EA6;\n",
              "      --disabled-fill-color: #AAA;\n",
              "      --disabled-bg-color: #DDD;\n",
              "  }\n",
              "\n",
              "  [theme=dark] .colab-df-quickchart {\n",
              "      --bg-color: #3B4455;\n",
              "      --fill-color: #D2E3FC;\n",
              "      --hover-bg-color: #434B5C;\n",
              "      --hover-fill-color: #FFFFFF;\n",
              "      --disabled-bg-color: #3B4455;\n",
              "      --disabled-fill-color: #666;\n",
              "  }\n",
              "\n",
              "  .colab-df-quickchart {\n",
              "    background-color: var(--bg-color);\n",
              "    border: none;\n",
              "    border-radius: 50%;\n",
              "    cursor: pointer;\n",
              "    display: none;\n",
              "    fill: var(--fill-color);\n",
              "    height: 32px;\n",
              "    padding: 0;\n",
              "    width: 32px;\n",
              "  }\n",
              "\n",
              "  .colab-df-quickchart:hover {\n",
              "    background-color: var(--hover-bg-color);\n",
              "    box-shadow: 0 1px 2px rgba(60, 64, 67, 0.3), 0 1px 3px 1px rgba(60, 64, 67, 0.15);\n",
              "    fill: var(--button-hover-fill-color);\n",
              "  }\n",
              "\n",
              "  .colab-df-quickchart-complete:disabled,\n",
              "  .colab-df-quickchart-complete:disabled:hover {\n",
              "    background-color: var(--disabled-bg-color);\n",
              "    fill: var(--disabled-fill-color);\n",
              "    box-shadow: none;\n",
              "  }\n",
              "\n",
              "  .colab-df-spinner {\n",
              "    border: 2px solid var(--fill-color);\n",
              "    border-color: transparent;\n",
              "    border-bottom-color: var(--fill-color);\n",
              "    animation:\n",
              "      spin 1s steps(1) infinite;\n",
              "  }\n",
              "\n",
              "  @keyframes spin {\n",
              "    0% {\n",
              "      border-color: transparent;\n",
              "      border-bottom-color: var(--fill-color);\n",
              "      border-left-color: var(--fill-color);\n",
              "    }\n",
              "    20% {\n",
              "      border-color: transparent;\n",
              "      border-left-color: var(--fill-color);\n",
              "      border-top-color: var(--fill-color);\n",
              "    }\n",
              "    30% {\n",
              "      border-color: transparent;\n",
              "      border-left-color: var(--fill-color);\n",
              "      border-top-color: var(--fill-color);\n",
              "      border-right-color: var(--fill-color);\n",
              "    }\n",
              "    40% {\n",
              "      border-color: transparent;\n",
              "      border-right-color: var(--fill-color);\n",
              "      border-top-color: var(--fill-color);\n",
              "    }\n",
              "    60% {\n",
              "      border-color: transparent;\n",
              "      border-right-color: var(--fill-color);\n",
              "    }\n",
              "    80% {\n",
              "      border-color: transparent;\n",
              "      border-right-color: var(--fill-color);\n",
              "      border-bottom-color: var(--fill-color);\n",
              "    }\n",
              "    90% {\n",
              "      border-color: transparent;\n",
              "      border-bottom-color: var(--fill-color);\n",
              "    }\n",
              "  }\n",
              "</style>\n",
              "\n",
              "  <script>\n",
              "    async function quickchart(key) {\n",
              "      const quickchartButtonEl =\n",
              "        document.querySelector('#' + key + ' button');\n",
              "      quickchartButtonEl.disabled = true;  // To prevent multiple clicks.\n",
              "      quickchartButtonEl.classList.add('colab-df-spinner');\n",
              "      try {\n",
              "        const charts = await google.colab.kernel.invokeFunction(\n",
              "            'suggestCharts', [key], {});\n",
              "      } catch (error) {\n",
              "        console.error('Error during call to suggestCharts:', error);\n",
              "      }\n",
              "      quickchartButtonEl.classList.remove('colab-df-spinner');\n",
              "      quickchartButtonEl.classList.add('colab-df-quickchart-complete');\n",
              "    }\n",
              "    (() => {\n",
              "      let quickchartButtonEl =\n",
              "        document.querySelector('#df-c4268554-7390-4d52-a9fb-9855a2230561 button');\n",
              "      quickchartButtonEl.style.display =\n",
              "        google.colab.kernel.accessAllowed ? 'block' : 'none';\n",
              "    })();\n",
              "  </script>\n",
              "</div>\n",
              "\n",
              "    </div>\n",
              "  </div>\n"
            ]
          },
          "metadata": {},
          "execution_count": 9
        }
      ]
    },
    {
      "cell_type": "markdown",
      "source": [
        "### Variables Description"
      ],
      "metadata": {
        "id": "kVaVY3Dv7p1Q"
      }
    },
    {
      "cell_type": "markdown",
      "source": [
        "There are 32 variables each variable has 1,19,390 no. of elements without data cleaning. For every variable with numerical values summarized above, what is the mean, std, minimum value, maximum value, 25%, 50%, or 75% of each numerical variable.\n",
        "1.is_canceled: Indicates whether the booking was canceled (0 for not canceled, 1 for canceled).\n",
        "\n",
        "2.lead_time: The number of days between booking and arrival.\n",
        "\n",
        "3.arrival_date_year: The year of arrival.\n",
        "\n",
        "4.arrival_date_month: The month of arrival.\n",
        "\n",
        "5.arrival_date_week_number: The week number of the arrival date.\n",
        "\n",
        "6.arrival_date_day_of_month: The day of the month of arrival.\n",
        "\n",
        "7.stays_in_weekend_nights: The number of weekend nights (Saturday and Sunday) the guest stayed.\n",
        "\n",
        "8.stays_in_week_nights: The number of weekday nights the guest stayed.\n",
        "\n",
        "9.adults: The number of adults in the booking.\n",
        "\n",
        "10.children: The number of children in the booking.\n",
        "\n",
        "11.babies: The number of babies in the booking.\n",
        "\n",
        "12.meal: The type of meal booked (e.g., \"BB\" for Bed & Breakfast).\n",
        "\n",
        "13.country: The country of the guest.\n",
        "\n",
        "14.market_segment: The market segment of the booking.\n",
        "\n",
        "15.distribution_channel: The distribution channel used to make the booking.\n",
        "\n",
        "16.is_repeated_guest: Indicates whether the guest is a repeated guest (0 for no, 1 for yes).\n",
        "\n",
        "17.previous_cancellations: The number of previous cancellations by the guest.\n",
        "\n",
        "18.previous_bookings_not_canceled: The number of previous bookings that were not canceled by the guest.\n",
        "\n",
        "19.reserved_room_type: The room type reserved.\n",
        "\n",
        "20.assigned_room_type: The room type assigned to the guest.\n",
        "\n",
        "21.booking_changes: The number of changes made to the booking.\n",
        "\n",
        "22.deposit_type: The type of deposit made for the booking.\n",
        "\n",
        "23.agent: The ID of the travel agent handling the booking.\n",
        "\n",
        "24.company: The ID of the company if the booking is associated with a company.\n",
        "\n",
        "25.days_in_waiting_list: The number of days the booking was on the waiting list.\n",
        "\n",
        "26.customer_type: The type of customer (e.g., \"Transient\" or \"Corporate\").\n",
        "\n",
        "27.adr: The average daily rate (a pricing metric).\n",
        "\n",
        "28.required_car_parking_spaces: The number of car parking spaces requested.\n",
        "\n",
        "29.total_of_special_requests: The total number of special requests made by the guest.\n",
        "\n",
        "30.reservation_status: The status of the reservation (e.g., \"Check-Out\").\n",
        "\n",
        "31.reservation_status_date: The date of the reservation status."
      ],
      "metadata": {
        "id": "bYm6dsHO8GrP"
      }
    },
    {
      "cell_type": "markdown",
      "source": [
        "## ***3. Data Wrangling***"
      ],
      "metadata": {
        "id": "VhJWDDzM8svm"
      }
    },
    {
      "cell_type": "markdown",
      "source": [
        "### Data Wrangling Code"
      ],
      "metadata": {
        "id": "0-hOqV3j9hrm"
      }
    },
    {
      "cell_type": "code",
      "source": [
        "# Removing duplicated data\n",
        "hotel.drop_duplicates(inplace= True)"
      ],
      "metadata": {
        "id": "h5I8aCKI97wz"
      },
      "execution_count": 10,
      "outputs": []
    },
    {
      "cell_type": "code",
      "source": [
        "hotel.shape"
      ],
      "metadata": {
        "id": "Bw3qH0-48nKL",
        "colab": {
          "base_uri": "https://localhost:8080/"
        },
        "outputId": "3dbf6c91-0492-41ac-e1bb-85b99a6a3b8b"
      },
      "execution_count": 11,
      "outputs": [
        {
          "output_type": "execute_result",
          "data": {
            "text/plain": [
              "(87396, 32)"
            ]
          },
          "metadata": {},
          "execution_count": 11
        }
      ]
    },
    {
      "cell_type": "code",
      "source": [
        "# Removing Null values\n",
        "\n",
        "hotel.dropna(subset= [\"children\"], inplace = True, axis= 0)\n",
        "\n",
        "hotel[\"country\"].fillna(hotel[\"country\"].mode()[0], inplace= True)"
      ],
      "metadata": {
        "id": "2I3TImjJ9yUk"
      },
      "execution_count": 12,
      "outputs": []
    },
    {
      "cell_type": "code",
      "source": [
        "# Droping row agent and company\n",
        "\n",
        "hotel.drop(['company', 'agent'], axis=1, inplace=True)"
      ],
      "metadata": {
        "id": "YT3Gp1cq-qiI"
      },
      "execution_count": 13,
      "outputs": []
    },
    {
      "cell_type": "code",
      "source": [
        "hotel.shape"
      ],
      "metadata": {
        "id": "a-a7-cvsGAAa",
        "colab": {
          "base_uri": "https://localhost:8080/"
        },
        "outputId": "337907fe-b1d1-49bf-be2f-aa3fe5505be5"
      },
      "execution_count": 14,
      "outputs": [
        {
          "output_type": "execute_result",
          "data": {
            "text/plain": [
              "(87392, 30)"
            ]
          },
          "metadata": {},
          "execution_count": 14
        }
      ]
    },
    {
      "cell_type": "markdown",
      "source": [
        "\n",
        "### What all manipulations have you done and insights you found?"
      ],
      "metadata": {
        "id": "wf9B9ybGAD7i"
      }
    },
    {
      "cell_type": "markdown",
      "source": [
        "\n",
        "\n",
        "1.  Removing duplicated Data\n",
        "2.  Checking shape of Data\n",
        "3.  Removing all Null values\n",
        "4.  Droped two columns\n",
        "5.  Rechecking shape of Dataset\n",
        "\n"
      ],
      "metadata": {
        "id": "0p-FuMpjAKpD"
      }
    },
    {
      "cell_type": "markdown",
      "source": [
        "## ***4. Data Vizualization, Storytelling & Experimenting with charts : Understand the relationships between variables***"
      ],
      "metadata": {
        "id": "md2VLSM70Tjy"
      }
    },
    {
      "cell_type": "markdown",
      "source": [
        "#### Chart - 1"
      ],
      "metadata": {
        "id": "y4g0g9k60c8O"
      }
    },
    {
      "cell_type": "code",
      "source": [
        "# Question - How does the distribution of lead times vary between resort hotels and city hotels?\n",
        "\n",
        "resort_data = hotel[hotel['hotel'] == 'Resort Hotel']['lead_time']\n",
        "city_data = hotel[hotel['hotel'] == 'City Hotel']['lead_time']\n",
        "\n",
        "# Plot side-by-side box plots\n",
        "plt.boxplot([resort_data, city_data], labels=['Resort', 'City'])\n",
        "plt.title('Distribution of Lead Time by Hotel Type')\n",
        "plt.xlabel('Hotel Type')\n",
        "plt.ylabel('Lead Time (days)')\n",
        "plt.show()"
      ],
      "metadata": {
        "id": "aZB3HfXcANNV",
        "colab": {
          "base_uri": "https://localhost:8080/",
          "height": 472
        },
        "outputId": "81ee4b2b-f93a-467a-c746-b17d83a45b47"
      },
      "execution_count": 15,
      "outputs": [
        {
          "output_type": "display_data",
          "data": {
            "text/plain": [
              "<Figure size 640x480 with 1 Axes>"
            ],
            "image/png": "[encoded data removed]"
          },
          "metadata": {}
        }
      ]
    },
    {
      "cell_type": "markdown",
      "source": [
        "##### 1. Why did you pick the specific chart?"
      ],
      "metadata": {
        "id": "HN0srBEV2gUO"
      }
    },
    {
      "cell_type": "markdown",
      "source": [
        "Comparison of Distributions: Box plots are excellent for comparing the distribution of a continuous variable (such as lead time) across different categories (customer types in this case). The box plot provides a clear visual representation of the central tendency, spread, and potential outliers in each category.\n",
        "\n",
        "Outlier Identification: Box plots readily highlight potential outliers in each customer type. Outliers in lead time could be significant, and their identification is facilitated by the box plot's whiskers and individual data points.\n",
        "\n",
        "Easy Interpretation: Box plots are easy to interpret, making them suitable for conveying information about the central tendency (median), spread (interquartile range), and potential skewness of the lead time distribution within each customer type."
      ],
      "metadata": {
        "id": "GGkuJvym2eBQ"
      }
    },
    {
      "cell_type": "markdown",
      "source": [
        "##### 2. What is/are the insight(s) found from the chart?"
      ],
      "metadata": {
        "id": "XLSVe-6B5euL"
      }
    },
    {
      "cell_type": "markdown",
      "source": [
        "In comparing lead time between city and resort bookings, the medians are similar, indicating comparable central tendencies. However, the interquartile range (IQR) for resort bookings is wider, suggesting greater variability in lead times compared to city bookings. This indicates that city bookings exhibit more consistency in lead times. Additionally, the presence of more outliers in the resort data suggests greater variability and potential extremes in lead times compared to the city."
      ],
      "metadata": {
        "id": "EZvnBBin5hAm"
      }
    },
    {
      "cell_type": "markdown",
      "source": [
        "#### Chart - 2"
      ],
      "metadata": {
        "id": "BNrL4CjO6CF-"
      }
    },
    {
      "cell_type": "code",
      "source": [
        "# Question - The trend in the number of bookings over the years?\n",
        "\n",
        "# Calculate total stays (weekend nights + week nights) for each entry\n",
        "hotel['total_stays'] = hotel['stays_in_weekend_nights'] + hotel['stays_in_week_nights']\n",
        "\n",
        "# Group data by arrival year and calculate the total number of stays for each year\n",
        "yearly_stays = hotel.groupby('arrival_date_year')['total_stays'].sum().reset_index()\n",
        "\n",
        "# Plot the trend using a line chart\n",
        "plt.plot(yearly_stays['arrival_date_year'], yearly_stays['total_stays'], marker='o', linestyle='-')\n",
        "plt.title('Trend in Total Stays Over the Years')\n",
        "plt.xlabel('Year')\n",
        "plt.ylabel('Total Stays')\n",
        "plt.xticks(rotation= 90)\n",
        "plt.grid(True)\n",
        "plt.show()"
      ],
      "metadata": {
        "id": "v2OVGHYS6HaZ",
        "colab": {
          "base_uri": "https://localhost:8080/",
          "height": 515
        },
        "outputId": "e53f76d7-5f94-42f3-a433-7d9a2be35b89"
      },
      "execution_count": 16,
      "outputs": [
        {
          "output_type": "display_data",
          "data": {
            "text/plain": [
              "<Figure size 640x480 with 1 Axes>"
            ],
            "image/png": "[encoded data removed]"
          },
          "metadata": {}
        }
      ]
    },
    {
      "cell_type": "markdown",
      "source": [
        "##### 1. Why did you pick the specific chart?"
      ],
      "metadata": {
        "id": "7p3HG8Wo6SxT"
      }
    },
    {
      "cell_type": "markdown",
      "source": [
        "Temporal Trends: Line plots are particularly useful when you want to show the trend or variation in a variable over a continuous or sequential dimension, such as time or categories like customer types. If your data has an inherent order or progression, a line plot effectively captures this.\n",
        "\n",
        "Connection of Data Points: A line plot visually connects data points, emphasizing the continuity or progression between them. In the context of customer types, this can help viewers follow the changes in average lead time from one type to another more intuitively.\n",
        "\n",
        "Comparison of Trends: Line plots allow for a clear comparison of trends across different customer types. Viewers can easily identify which customer type has a higher or lower average lead time and observe how these trends evolve over the specified dimension.\n",
        "\n",
        "\n",
        "\n"
      ],
      "metadata": {
        "id": "UPsqFM3b6RpU"
      }
    },
    {
      "cell_type": "markdown",
      "source": [
        "##### 2. What is/are the insight(s) found from the chart?"
      ],
      "metadata": {
        "id": "kp9tj0Cl6Zsg"
      }
    },
    {
      "cell_type": "markdown",
      "source": [
        "The dataset spans from 2015 to 2017, indicating a growth trend for the Hotel. Stays started at a low point in early 2015, around 50,000, but consistently increased in each quarter. By the beginning of 2016, stays peaked at nearly 150,000, signifying significant growth. While there was a slight decline thereafter, with stays reaching around 120,000 in 2017, the overall trend suggests positive hotel expansion during the specified period."
      ],
      "metadata": {
        "id": "-HbndjCG6i86"
      }
    },
    {
      "cell_type": "markdown",
      "source": [
        "#### Chart - 3"
      ],
      "metadata": {
        "id": "yToCspTW7CH3"
      }
    },
    {
      "cell_type": "code",
      "source": [
        "# Question - What is the breakdown of reservations by market segment?\n",
        "\n",
        "# Count the occurrences of each market segment\n",
        "segment_counts = hotel['market_segment'].value_counts()\n",
        "\n",
        "# Plot a donut chart\n",
        "fig, ax = plt.subplots()\n",
        "\n",
        "# Colors for each segment\n",
        "colors = plt.cm.Set3.colors\n",
        "\n",
        "# Plotting the donut chart\n",
        "ax.pie(segment_counts, labels=segment_counts.index, autopct='%1.1f%%', startangle=30, colors=colors, wedgeprops=dict(width=0.4))\n",
        "\n",
        "# Set aspect ratio to be equal for a circular chart\n",
        "ax.axis('equal')\n",
        "\n",
        "# Adjust layout to avoid overlapping\n",
        "plt.tight_layout()\n",
        "\n",
        "plt.title('Breakdown of Reservations by Market Segment')\n",
        "plt.show()"
      ],
      "metadata": {
        "id": "ZIFsHnvn6Kb-",
        "colab": {
          "base_uri": "https://localhost:8080/",
          "height": 509
        },
        "outputId": "b3f2300d-ccaf-4dec-bb37-2db6f254ca0c"
      },
      "execution_count": 17,
      "outputs": [
        {
          "output_type": "display_data",
          "data": {
            "text/plain": [
              "<Figure size 640x480 with 1 Axes>"
            ],
            "image/png": "[encoded data removed]"
          },
          "metadata": {}
        }
      ]
    },
    {
      "cell_type": "markdown",
      "source": [
        "##### 1. Why did you pick the specific chart?"
      ],
      "metadata": {
        "id": "LV7-QY1R7ku8"
      }
    },
    {
      "cell_type": "markdown",
      "source": [
        "Concise Presentation: Donut charts are concise and easy to interpret. They provide a visually appealing representation of the distribution of reservations without overwhelming viewers with excessive details.\n",
        "\n",
        "Focus on Proportions: Donut charts emphasize proportions and percentages. The hole in the center of the donut draws attention to the center, making it a natural space for displaying key information such as the total number of reservations or the overall context of the data.\n",
        "\n",
        "Aesthetically Pleasing: Donut charts are often considered aesthetically pleasing, making them suitable for presentations and reports where visual appeal is important. The circular shape and color choices can enhance the overall design."
      ],
      "metadata": {
        "id": "JYtgZ5fu7i0N"
      }
    },
    {
      "cell_type": "markdown",
      "source": [
        "##### 2. What is/are the insight(s) found from the chart?"
      ],
      "metadata": {
        "id": "WonCNZAH8GxG"
      }
    },
    {
      "cell_type": "markdown",
      "source": [
        "The majority of reservations, accounting for 59.1%, are made through the Online Travel Agency (Online TA). Offline TA/TO follows with a share of 15.9%. In contrast, Aviation and Complementary segments contribute the least, each representing only 0.3% and 0.5%, respectively. This highlights the prevalent trend of online reservations dominating the booking landscape."
      ],
      "metadata": {
        "id": "_KJx02pH8FQQ"
      }
    },
    {
      "cell_type": "markdown",
      "source": [
        "#### Chart - 4"
      ],
      "metadata": {
        "id": "NE9P-aFc8fAm"
      }
    },
    {
      "cell_type": "code",
      "source": [
        "# Question - Is there a correlation between the number of special requests and the lead time?\n",
        "\n",
        "# Plot a scatter plot\n",
        "plt.scatter(hotel['stays_in_weekend_nights'], hotel['stays_in_week_nights'])\n",
        "plt.title('Correlation between Weekend Nights and Week Nights Stayed')\n",
        "plt.xlabel('Number of Weekend Nights')\n",
        "plt.ylabel('Number of Week Nights')\n",
        "plt.grid(True)\n",
        "plt.show()"
      ],
      "metadata": {
        "id": "4wAiR0P06_B-",
        "colab": {
          "base_uri": "https://localhost:8080/",
          "height": 472
        },
        "outputId": "41fbcc9e-1806-4006-e3f0-61d8f4ef711e"
      },
      "execution_count": 18,
      "outputs": [
        {
          "output_type": "display_data",
          "data": {
            "text/plain": [
              "<Figure size 640x480 with 1 Axes>"
            ],
            "image/png": "[encoded data removed]"
          },
          "metadata": {}
        }
      ]
    },
    {
      "cell_type": "markdown",
      "source": [
        "##### 1. Why did you pick the specific chart?"
      ],
      "metadata": {
        "id": "Ar5HVE2w8tU8"
      }
    },
    {
      "cell_type": "markdown",
      "source": [
        "Correlation Patterns: By plotting lead time on one axis and the number of special requests on the other, you can visually assess whether there is a recognizable pattern. If there is a correlation, you might observe a trend, such as an increase or decrease in the number of special requests as lead time changes.\n",
        "\n",
        "Strength of Correlation: The spread and tightness of the data points on the scatter plot can give an indication of the strength of the correlation. A tight cluster suggests a strong correlation, while a more scattered distribution may indicate a weaker or no correlation.\n",
        "\n",
        "Outliers: Scatter plots make it easy to identify any outliers or unusual observations. Outliers can significantly impact the correlation, and their presence may warrant further investigation."
      ],
      "metadata": {
        "id": "FON8_Caj6vh_"
      }
    },
    {
      "cell_type": "markdown",
      "source": [
        "##### 2. What is/are the insight(s) found from the chart?"
      ],
      "metadata": {
        "id": "3PmuyRaj887g"
      }
    },
    {
      "cell_type": "markdown",
      "source": [
        "The upward movement of data points on the scatter plot indicates a positive correlation between the number of weeknight stays and weekend stays. This observation suggests that as the number of weeknight stays increases, there is a corresponding increase in weekend stays."
      ],
      "metadata": {
        "id": "ulsgvz3d9IfL"
      }
    },
    {
      "cell_type": "markdown",
      "source": [
        "#### Chart - 5"
      ],
      "metadata": {
        "id": "Mrx-FKI_9fxa"
      }
    },
    {
      "cell_type": "code",
      "source": [
        "# Question - What is the distribution of arrival dates throughout the year?\n",
        "\n",
        "# Map month names to their numerical representation\n",
        "month_order = ['January', 'February', 'March', 'April', 'May', 'June', 'July', 'August', 'September', 'October', 'November', 'December']\n",
        "hotel['month_numeric'] = pd.Categorical(hotel['arrival_date_month'], categories=month_order, ordered=True)\n",
        "\n",
        "# Pivot the data to create a calendar heatmap\n",
        "heatmap_data = hotel.pivot_table(index='arrival_date_year', columns='month_numeric', aggfunc='size', fill_value=0)\n",
        "\n",
        "# Plot the calendar heatmap\n",
        "plt.figure(figsize=(10, 6))\n",
        "sns.heatmap(heatmap_data, annot=True, cmap='YlGnBu', fmt='d', cbar_kws={'label': 'Number of Arrivals'})\n",
        "plt.title('Distribution of Arrivals Throughout the Year')\n",
        "plt.xlabel('Month')\n",
        "plt.ylabel('Year')\n",
        "plt.show()"
      ],
      "metadata": {
        "id": "adc1iE-t9pTm",
        "colab": {
          "base_uri": "https://localhost:8080/",
          "height": 627
        },
        "outputId": "2df2430d-1353-4ed1-8167-3dfe05e02459"
      },
      "execution_count": 19,
      "outputs": [
        {
          "output_type": "display_data",
          "data": {
            "text/plain": [
              "<Figure size 1000x600 with 2 Axes>"
            ],
            "image/png": "[encoded data removed]"
          },
          "metadata": {}
        }
      ]
    },
    {
      "cell_type": "markdown",
      "source": [
        "##### 1. Why did you pick the specific chart?"
      ],
      "metadata": {
        "id": "9nzaLP_-9zRg"
      }
    },
    {
      "cell_type": "markdown",
      "source": [
        "Seasonal Trends: Heatmaps are excellent for highlighting seasonal trends. By observing variations in color intensity, you can identify peak and off-peak seasons, helping to understand when the hotel experiences higher or lower demand.\n",
        "\n",
        "Comparison Across Years: If you have data for multiple years, a heatmap enables easy visual comparison. You can stack heatmaps for different years side by side, making it straightforward to identify changes or consistencies in arrival patterns over time.\n",
        "\n",
        "Identification of Busiest and Quietest Periods: The color gradients in a heatmap make it easy to identify the busiest and quietest periods. Darker colors represent higher activity, helping stakeholders quickly pinpoint when the hotel experiences the most and least footfall."
      ],
      "metadata": {
        "id": "NUMXLWx6-NU1"
      }
    },
    {
      "cell_type": "markdown",
      "source": [
        "##### 2. What is/are the insight(s) found from the chart?"
      ],
      "metadata": {
        "id": "4g_91en--Vzq"
      }
    },
    {
      "cell_type": "markdown",
      "source": [
        "In 2015, the months of August to October and November experienced lower arrival rates, while July showcased a similar trend. Fast forward to 2016, and we observe a significant shift, with August to October emerging as the busiest months. Interestingly, the first and last two months of the year remained relatively subdued. Moving to 2017, a consistent pattern persists, with the initial two months experiencing lower arrivals. However, the second quarter, particularly April, emerges as the period with the highest arrivals."
      ],
      "metadata": {
        "id": "NvX3Rxi9-PnV"
      }
    },
    {
      "cell_type": "markdown",
      "source": [
        "#### Chart - 6"
      ],
      "metadata": {
        "id": "djCQi0Y-EAiS"
      }
    },
    {
      "cell_type": "code",
      "source": [
        "# Question - What is the ratio of repeated guests to new guests?\n",
        "\n",
        "# Count the occurrences of repeated and new guests\n",
        "guest_counts = hotel['is_repeated_guest'].value_counts()\n",
        "\n",
        "# Plot the pie chart\n",
        "plt.pie(guest_counts, labels=['New Guests', 'Repeated Guests'], autopct='%1.1f%%', colors=['skyblue', 'lightcoral'])\n",
        "plt.title('Ratio of Repeated Guests to New Guests')\n",
        "plt.show()"
      ],
      "metadata": {
        "id": "B3YHKamGEMe8",
        "colab": {
          "base_uri": "https://localhost:8080/",
          "height": 428
        },
        "outputId": "110f71c7-652b-4ecc-8aec-2b54fd1dbefc"
      },
      "execution_count": 20,
      "outputs": [
        {
          "output_type": "display_data",
          "data": {
            "text/plain": [
              "<Figure size 640x480 with 1 Axes>"
            ],
            "image/png": "[encoded data removed]"
          },
          "metadata": {}
        }
      ]
    },
    {
      "cell_type": "markdown",
      "source": [
        "##### 1. Why did you pick the specific chart?"
      ],
      "metadata": {
        "id": "0GUN5byLG7K_"
      }
    },
    {
      "cell_type": "markdown",
      "source": [
        "Clear Comparison: A pie chart allows for a direct comparison between two categories (repeated guests and new guests) by dividing a circle into segments. Each segment represents a proportion of the whole, making it easy to see the ratio between the two categories.\n",
        "\n",
        "Percentage Display: Pie charts typically display percentages, making it easy to understand the proportion of each category relative to the total. Viewers can quickly grasp the ratio of repeated guests to new guests without needing to perform additional calculations.\n",
        "\n",
        "Simple Visualization: The simplicity of a pie chart makes it easy to interpret, even for individuals who may not be familiar with complex data visualization techniques. The clear division of the circle into segments facilitates quick comprehension of the guest ratio."
      ],
      "metadata": {
        "id": "5u44zum2HD0T"
      }
    },
    {
      "cell_type": "markdown",
      "source": [
        "##### 2. What is/are the insight(s) found from the chart?"
      ],
      "metadata": {
        "id": "8zsPXs9FHC4y"
      }
    },
    {
      "cell_type": "markdown",
      "source": [
        "At present, guest base comprises predominantly new guests, constituting a significant majority at 96.1%. Conversely, the proportion of repeated guests stands at a modest 3.9%."
      ],
      "metadata": {
        "id": "PAMt4GVwHCAc"
      }
    },
    {
      "cell_type": "markdown",
      "source": [
        "#### Chart - 7"
      ],
      "metadata": {
        "id": "ODim-ade4MvQ"
      }
    },
    {
      "cell_type": "code",
      "source": [
        "# Question - How does the average lead time vary across different customer types?\n",
        "\n",
        "# Clustered bar chart\n",
        "plt.figure(figsize=(10, 6))\n",
        "sns.barplot(x='customer_type', y='lead_time', data=hotel, errorbar=None, hue = \"customer_type\", legend = False )\n",
        "plt.title('Average Lead Time Across Different Customer Types')\n",
        "plt.xlabel('Customer Type')\n",
        "plt.ylabel('Average Lead Time (days)')\n",
        "plt.show()"
      ],
      "metadata": {
        "id": "KVIIIhZP4nST",
        "colab": {
          "base_uri": "https://localhost:8080/",
          "height": 564
        },
        "outputId": "4d08e953-dd32-40f8-b0fb-f86a384a84a0"
      },
      "execution_count": 21,
      "outputs": [
        {
          "output_type": "display_data",
          "data": {
            "text/plain": [
              "<Figure size 1000x600 with 1 Axes>"
            ],
            "image/png": "[encoded data removed]"
          },
          "metadata": {}
        }
      ]
    },
    {
      "cell_type": "markdown",
      "source": [
        "##### 1. Why did you pick the specific chart?"
      ],
      "metadata": {
        "id": "6SQhICTN5GYB"
      }
    },
    {
      "cell_type": "markdown",
      "source": [
        "A bar chart is more preferable for visualizing the variation in average lead time across different customer types because it effectively compares the average lead times between categories in a straightforward and visually appealing manner."
      ],
      "metadata": {
        "id": "4uk2LxNm6fOR"
      }
    },
    {
      "cell_type": "markdown",
      "source": [
        "##### 2. What is/are the insight(s) found from the chart?"
      ],
      "metadata": {
        "id": "Yb7E896U5GKk"
      }
    },
    {
      "cell_type": "markdown",
      "source": [
        "The average lead time varies across different types of reservations. Transient party bookings exhibit the longest lead time, followed by contract reservations, and transient reservations. Conversely, group bookings demonstrate the shortest lead time."
      ],
      "metadata": {
        "id": "WKn37SVX6gIV"
      }
    },
    {
      "cell_type": "markdown",
      "source": [
        "#### Chart - 8"
      ],
      "metadata": {
        "id": "16TlWEn34MjI"
      }
    },
    {
      "cell_type": "code",
      "source": [
        "# How does the average daily rate (ADR) change with the number of people in the reservation?\n",
        "\n",
        "# Calculate the total number of people in each reservation\n",
        "hotel['total_people'] = hotel['adults'] + hotel['children'] + hotel['babies']\n",
        "\n",
        "# Line chart\n",
        "plt.figure(figsize=(10, 6))\n",
        "sns.lineplot(x='total_people', y='adr', data=hotel, marker='o', errorbar=None, color='skyblue')\n",
        "plt.title('Average Daily Rate vs. Total Number of People in Reservation')\n",
        "plt.xlabel('Total Number of People')\n",
        "plt.ylabel('Average Daily Rate (ADR)')\n",
        "plt.show()"
      ],
      "metadata": {
        "id": "VDZbDYVL4oHf",
        "colab": {
          "base_uri": "https://localhost:8080/",
          "height": 564
        },
        "outputId": "76955f84-f596-4ec6-f23b-83a0a0a9c24d"
      },
      "execution_count": 22,
      "outputs": [
        {
          "output_type": "display_data",
          "data": {
            "text/plain": [
              "<Figure size 1000x600 with 1 Axes>"
            ],
            "image/png": "[encoded data removed]"
          },
          "metadata": {}
        }
      ]
    },
    {
      "cell_type": "markdown",
      "source": [
        "##### 1. Why did you pick the specific chart?"
      ],
      "metadata": {
        "id": "qib6gd8I5Hb8"
      }
    },
    {
      "cell_type": "markdown",
      "source": [
        "A line plot is the most preferable chart for visualizing how the average daily rate (ADR) changes with the number of people in the reservation due to its ability to effectively display trends and patterns over a continuous range of values. By representing the number of people in the reservation on the x-axis and the corresponding ADR on the y-axis, a line plot allows for a clear visualization of how ADR varies with changes in reservation size. This enables viewers to easily interpret trends and identify any relationships between the two variables. Additionally, line plots offer flexibility to accommodate multiple lines for different categories or segments, facilitating comparisons and insights into how ADR varies across different scenarios. Overall, line plots provide a clear, intuitive, and effective means of communicating the relationship between ADR and reservation size to stakeholders and decision-makers."
      ],
      "metadata": {
        "id": "fe9rVaq26c2E"
      }
    },
    {
      "cell_type": "markdown",
      "source": [
        "##### 2. What is/are the insight(s) found from the chart?"
      ],
      "metadata": {
        "id": "KvDZ4vKG5Isz"
      }
    },
    {
      "cell_type": "markdown",
      "source": [
        "In the visualization, we observe a distinctive pattern in the Average Daily Rate (ADR) concerning the number of people in the reservation. Notably, ADR fluctuates between zero and its peak value within the range of 0 to 5 people, reaching a high of over 200 units. Subsequently, there is a downturn in ADR as the reservation size increases to 8 people, followed by a gradual increase up to 15 people, where ADR stabilizes around 100 units. Beyond this point, ADR starts declining steadily, reaching its lowest point at 20 people. This visualization underscores the nuanced relationship between reservation size and ADR"
      ],
      "metadata": {
        "id": "hrP7PWWh6b2G"
      }
    },
    {
      "cell_type": "markdown",
      "source": [
        "#### Chart - 9"
      ],
      "metadata": {
        "id": "QAurTkMo4MXB"
      }
    },
    {
      "cell_type": "code",
      "source": [
        "# Question:- What are the top 10 countries of the guests and how many bookings did they make?\n",
        "\n",
        "# Creating Sub Data\n",
        "sub_hotel = hotel.loc[:,[\"country\", \"is_canceled\"]]\n",
        "\n",
        "# Filter only non-canceled bookings\n",
        "non_canceled_booking = sub_hotel[sub_hotel['is_canceled'] == 0]\n",
        "\n",
        "# Group by country and count the number of bookings\n",
        "result = non_canceled_booking.groupby(\"country\")[\"is_canceled\"].count()\n",
        "top_countries = result.sort_values(ascending= False).head(10).reset_index()\n",
        "\n",
        "# Plot donut chart\n",
        "explode = (0.05, 0.05, 0.05, 0.05, 0.05, 0.05, 0.05, 0.05, 0.05, 0.05)\n",
        "plt.pie(top_countries[\"is_canceled\"].to_list(), labels= top_countries[\"country\"].to_list(),\n",
        "        autopct= \"%1.1f%%\", startangle= 45, pctdistance= 0.85, explode= explode)\n",
        "\n",
        "\n",
        "centre_circle = plt.Circle((0, 0), 0.50, fc='white')\n",
        "fig = plt.gcf()\n",
        "\n",
        "fig.gca().add_artist(centre_circle)\n",
        "\n",
        "plt.show()"
      ],
      "metadata": {
        "id": "sKaKOhLR4o80",
        "colab": {
          "base_uri": "https://localhost:8080/",
          "height": 406
        },
        "outputId": "0848c6e5-c650-46bb-d13f-02045dd44264"
      },
      "execution_count": 23,
      "outputs": [
        {
          "output_type": "display_data",
          "data": {
            "text/plain": [
              "<Figure size 640x480 with 1 Axes>"
            ],
            "image/png": "[encoded data removed]"
          },
          "metadata": {}
        }
      ]
    },
    {
      "cell_type": "markdown",
      "source": [
        "##### 1. Why did you pick the specific chart?"
      ],
      "metadata": {
        "id": "8Uelk7wD5KOP"
      }
    },
    {
      "cell_type": "markdown",
      "source": [
        "A donut plot, also known as a doughnut chart, can be effective for visualizing the distribution of bookings among the top 10 countries of guests. The circular shape allows for easy comparison of proportions, making it suitable for showcasing the contribution of each country to the total number of bookings.\n",
        "\n",
        "Top 10 Countries Focus:\n",
        "\n",
        "The primary focus is on highlighting the contributions of the top 10 countries, and a donut plot is effective in displaying the relative sizes of these categories in a visually appealing manner.\n",
        "\n",
        "Proportional Representation:\n",
        "\n",
        "Donut plots represent proportions of a whole, making it easy to see the distribution of bookings among the selected countries. Each country's contribution is visually proportional to its share of the total.\n",
        "\n",
        "Clear Comparison:\n",
        "\n",
        "The ring-like structure of a donut plot allows for clear visual comparison between the countries. It provides an intuitive way to identify which countries make a significant number of bookings compared to others.\n",
        "\n",
        "Concise Presentation:\n",
        "\n",
        "Donut plots are concise and straightforward, presenting information in a compact format. This is beneficial when you want to quickly convey the key insights about the top countries without overwhelming the viewer with details."
      ],
      "metadata": {
        "id": "X10mpcuk6ZZ7"
      }
    },
    {
      "cell_type": "markdown",
      "source": [
        "##### 2. What is/are the insight(s) found from the chart?"
      ],
      "metadata": {
        "id": "YyZh43Yx5Jvk"
      }
    },
    {
      "cell_type": "markdown",
      "source": [
        "PRT (Portugal): The most visited country, comprising 34.2% of the total bookings.\n",
        "\n",
        "GBR (United Kingdom): The second most visited country, with a share of 16.1%.\n",
        "\n",
        "FRA (France): The third most visited country, representing 13.6% of the total bookings.\n",
        "\n",
        "ESP (Spain): Following closely, Spain is the fourth most visited country, with a share of 10.3%.\n",
        "\n",
        "It's also noteworthy that the United States (USA) is among the top 10 countries but has a lower percentage share compared to the others. This information provides valuable insights into the popularity of different countries among the guests making bookings."
      ],
      "metadata": {
        "id": "BgEt2QDy6Y3I"
      }
    },
    {
      "cell_type": "markdown",
      "source": [
        "#### Chart - 10"
      ],
      "metadata": {
        "id": "gKEk2_Fp4MKI"
      }
    },
    {
      "cell_type": "code",
      "source": [
        "# Question - What is the proportion of reservations with different deposit types?\n",
        "\n",
        "# Count the occurrences of each deposit type\n",
        "deposit_counts = hotel['deposit_type'].value_counts()\n",
        "\n",
        "# Stacked bar chart\n",
        "fig, ax = plt.subplots()\n",
        "deposit_counts.plot(kind='bar', stacked=True, color=['skyblue', 'lightcoral', 'lightgreen'], ax=ax)\n",
        "plt.title('Proportion of Reservations by Deposit Type (Stacked Bar Chart)')\n",
        "plt.xlabel('Deposit Type')\n",
        "plt.ylabel('Number of Reservations')\n",
        "plt.show()\n"
      ],
      "metadata": {
        "id": "pMS5uQI24pfq",
        "colab": {
          "base_uri": "https://localhost:8080/",
          "height": 539
        },
        "outputId": "f1f56957-ab8c-4ea9-9e5f-9813c25db2ac"
      },
      "execution_count": 24,
      "outputs": [
        {
          "output_type": "display_data",
          "data": {
            "text/plain": [
              "<Figure size 640x480 with 1 Axes>"
            ],
            "image/png": "[encoded data removed]"
          },
          "metadata": {}
        }
      ]
    },
    {
      "cell_type": "markdown",
      "source": [
        "##### 1. Why did you pick the specific chart?"
      ],
      "metadata": {
        "id": "p9cfVxNF5Lpy"
      }
    },
    {
      "cell_type": "markdown",
      "source": [
        "\n",
        "A bar plot is ideal for visualizing the proportion of reservations with different deposit types due to its ability to clearly compare categorical data. Each deposit type is represented by a separate bar, making it simple to see the relative distribution of reservations. The length of each bar reflects the proportion of reservations associated with a specific deposit type, facilitating quick interpretation. This clear and concise visualization aids decision-making by providing stakeholders with insights into deposit type preferences."
      ],
      "metadata": {
        "id": "LF24CZ1A6XP6"
      }
    },
    {
      "cell_type": "markdown",
      "source": [
        "##### 2. What is/are the insight(s) found from the chart?"
      ],
      "metadata": {
        "id": "EKOBFZuB5Lcq"
      }
    },
    {
      "cell_type": "markdown",
      "source": [
        "An overwhelming majority of reservations occur with no deposit, overshadowing the negligible occurrence of non-refundable reservations in comparison. Notably, there are no reservations associated with the refundable deposit type. This trend underscores a prevalent preference for bookings without a deposit requirement, highlighting potential areas for review and optimization in our deposit policies."
      ],
      "metadata": {
        "id": "bw1rfqQr6W1x"
      }
    },
    {
      "cell_type": "markdown",
      "source": [
        "#### Chart - 11"
      ],
      "metadata": {
        "id": "UKcdJOdB4L9i"
      }
    },
    {
      "cell_type": "code",
      "source": [],
      "metadata": {
        "id": "_LL3oCmx4qLX"
      },
      "execution_count": 23,
      "outputs": []
    },
    {
      "cell_type": "markdown",
      "source": [
        "##### 1. Why did you pick the specific chart?"
      ],
      "metadata": {
        "id": "-NXV8Vn-5NbA"
      }
    },
    {
      "cell_type": "markdown",
      "source": [],
      "metadata": {
        "id": "ovYI5cSl6VFl"
      }
    },
    {
      "cell_type": "markdown",
      "source": [
        "##### 2. What is/are the insight(s) found from the chart?"
      ],
      "metadata": {
        "id": "25bs34vU5Mws"
      }
    },
    {
      "cell_type": "markdown",
      "source": [],
      "metadata": {
        "id": "_uUP0z7A6Uju"
      }
    },
    {
      "cell_type": "markdown",
      "source": [
        "#### Chart - 12"
      ],
      "metadata": {
        "id": "Ujs9Xywg4Lxn"
      }
    },
    {
      "cell_type": "code",
      "source": [],
      "metadata": {
        "id": "m_oEQCaY4qtc"
      },
      "execution_count": 23,
      "outputs": []
    },
    {
      "cell_type": "markdown",
      "source": [
        "##### 1. Why did you pick the specific chart?"
      ],
      "metadata": {
        "id": "1hi6WJPI5Oup"
      }
    },
    {
      "cell_type": "markdown",
      "source": [],
      "metadata": {
        "id": "Q82bgPMZ6R--"
      }
    },
    {
      "cell_type": "markdown",
      "source": [
        "##### 2. What is/are the insight(s) found from the chart?"
      ],
      "metadata": {
        "id": "W2mxWa8o5OP9"
      }
    },
    {
      "cell_type": "markdown",
      "source": [],
      "metadata": {
        "id": "jIKR8lGl6Sx9"
      }
    },
    {
      "cell_type": "markdown",
      "source": [
        "#### Chart - 13"
      ],
      "metadata": {
        "id": "75Ku4lHN4LkY"
      }
    },
    {
      "cell_type": "code",
      "source": [],
      "metadata": {
        "id": "1JiZNbdu5Xf4"
      },
      "execution_count": 23,
      "outputs": []
    },
    {
      "cell_type": "markdown",
      "source": [
        "##### 1. Why did you pick the specific chart?"
      ],
      "metadata": {
        "id": "ZHIaRvoH5P6c"
      }
    },
    {
      "cell_type": "markdown",
      "source": [],
      "metadata": {
        "id": "9kYnyllI6NYB"
      }
    },
    {
      "cell_type": "markdown",
      "source": [
        "##### 2. What is/are the insight(s) found from the chart?"
      ],
      "metadata": {
        "id": "AHpeWV7x5Pc6"
      }
    },
    {
      "cell_type": "markdown",
      "source": [],
      "metadata": {
        "id": "SPR3KIJv6P32"
      }
    },
    {
      "cell_type": "markdown",
      "source": [
        "#### Chart - 14"
      ],
      "metadata": {
        "id": "-z9gcOcE4LX0"
      }
    },
    {
      "cell_type": "code",
      "source": [],
      "metadata": {
        "id": "ezqt7hF-5YTP"
      },
      "execution_count": 23,
      "outputs": []
    },
    {
      "cell_type": "markdown",
      "source": [
        "##### 1. Why did you pick the specific chart?"
      ],
      "metadata": {
        "id": "ZkczFj5v5RCH"
      }
    },
    {
      "cell_type": "markdown",
      "source": [],
      "metadata": {
        "id": "Mf-v1r8j6FNB"
      }
    },
    {
      "cell_type": "markdown",
      "source": [
        "##### 2. What is/are the insight(s) found from the chart?"
      ],
      "metadata": {
        "id": "_5Wvq8eG5Qof"
      }
    },
    {
      "cell_type": "markdown",
      "source": [],
      "metadata": {
        "id": "YzaC5VAs6HC-"
      }
    },
    {
      "cell_type": "markdown",
      "source": [
        "#### Chart - 15"
      ],
      "metadata": {
        "id": "0qIAdWpU4LJZ"
      }
    },
    {
      "cell_type": "code",
      "source": [],
      "metadata": {
        "id": "hqtnh9-g4tr0"
      },
      "execution_count": 23,
      "outputs": []
    },
    {
      "cell_type": "markdown",
      "source": [
        "##### 1. Why did you pick the specific chart?"
      ],
      "metadata": {
        "id": "c50QR3qt5abC"
      }
    },
    {
      "cell_type": "markdown",
      "source": [],
      "metadata": {
        "id": "S2aU5SEb6BlA"
      }
    },
    {
      "cell_type": "markdown",
      "source": [
        "##### 2. What is/are the insight(s) found from the chart?"
      ],
      "metadata": {
        "id": "obBe7E9y5aND"
      }
    },
    {
      "cell_type": "markdown",
      "source": [],
      "metadata": {
        "id": "_EF4HNs16CZm"
      }
    },
    {
      "cell_type": "markdown",
      "source": [
        "# **Conclusion**"
      ],
      "metadata": {
        "id": "7O5jEtf34uSS"
      }
    },
    {
      "cell_type": "markdown",
      "source": [
        "Write the conclusion here."
      ],
      "metadata": {
        "id": "PRStUi5q4_Tg"
      }
    },
    {
      "cell_type": "markdown",
      "source": [
        "### ***Hurrah! You have successfully completed your EDA Capstone Project !!!***"
      ],
      "metadata": {
        "id": "ujZ_dpB841nN"
      }
    }
  ]
}